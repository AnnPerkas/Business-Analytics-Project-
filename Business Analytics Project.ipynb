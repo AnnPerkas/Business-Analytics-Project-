{
 "cells": [
  {
   "cell_type": "markdown",
   "metadata": {},
   "source": [
    "# Project description\n",
    "\n",
    "The first task is to help optimize marketing expenses. \n",
    "\n",
    "### Given:\n",
    "- Server logs with data on Yandex.Afisha visits from January 2017 through December 2018\n",
    "- Dump file with all orders for the period\n",
    "- Marketing expenses statistics\n",
    "\n",
    "### What needs to be studied:\n",
    "\n",
    "- How people use the product\n",
    "- When they start to buy\n",
    "- How much money each customer brings\n",
    "- When they pay off"
   ]
  },
  {
   "cell_type": "markdown",
   "metadata": {},
   "source": [
    "# Table of contents\n",
    "\n",
    "1. [Step 1. Download the data and prepare it for analysis](#download)\n",
    "    1. [First Dataset - Costs (data on marketing expenses)](#dataset1)\n",
    "    2. [Conclusion](#conclusion1)\n",
    "    3. [Second Dataset - Orders_log (data on orders)](#dataset2)\n",
    "    4. [Conclusion](#conclusion2)\n",
    "    5. [Third Dataset - Visits_log (server logs with data on website visits)](#dataset3)\n",
    "    6. [Conclusion](#conclusion3)\n",
    "    7. [Preparing The Data](#preparingdata) \n",
    "    8. [Columns](#columns)\n",
    "2. [Step 2. Make reports and calculate metrics](#reports)\n",
    "   1. [1. Product](#product)\n",
    "   2. [2. Sales](#sales)\n",
    "   3. [Conclusion](#conclusion4)\n",
    "   4. [3. Marketing](#Marketing)\n",
    "   5. [Conclusion](#conclusion5)\n",
    "3. [Step 3. Testing Hypothesis ](#hypothesus)\n",
    "   1. [Conclusion](#conclusion6)\n",
    "5. [Project Conclusion](#conclusion7)  "
   ]
  },
  {
   "cell_type": "code",
   "execution_count": 1,
   "metadata": {},
   "outputs": [],
   "source": [
    "import pandas as pd\n",
    "import matplotlib.pyplot as plt\n",
    "import seaborn as sns\n",
    "import numpy as np\n",
    "import seaborn as sb\n",
    "from scipy import stats as st\n",
    "import matplotlib.pyplot as plt \n",
    "from matplotlib.colors import ListedColormap, LinearSegmentedColormap\n",
    "import numpy as mp\n",
    "from matplotlib import cm\n",
    "import warnings\n",
    "warnings.filterwarnings('ignore')"
   ]
  },
  {
   "cell_type": "code",
   "execution_count": 2,
   "metadata": {},
   "outputs": [],
   "source": [
    "from plotly import graph_objects as go\n",
    "import plotly.express as px\n",
    "import plotly.io as pio\n",
    "pio.renderers;"
   ]
  },
  {
   "cell_type": "code",
   "execution_count": null,
   "metadata": {},
   "outputs": [],
   "source": [
    "!pip install seaborn==0.11.0"
   ]
  },
  {
   "cell_type": "markdown",
   "metadata": {},
   "source": [
    "## Step 1. Download the data and prepare it for analysis <a name=\"donload\"></a>"
   ]
  },
  {
   "cell_type": "markdown",
   "metadata": {},
   "source": [
    "### First Dataset - Costs (data on marketing expenses) <a name=\"dataset1\"></a>"
   ]
  },
  {
   "cell_type": "code",
   "execution_count": 4,
   "metadata": {},
   "outputs": [],
   "source": [
    "costs = pd.read_csv('/Users/annaperkas/Downloads/costs_us.csv')\n",
    "costs.head();"
   ]
  },
  {
   "cell_type": "code",
   "execution_count": 5,
   "metadata": {},
   "outputs": [],
   "source": [
    "costs.tail();"
   ]
  },
  {
   "cell_type": "code",
   "execution_count": 6,
   "metadata": {},
   "outputs": [
    {
     "data": {
      "text/html": [
       "<div>\n",
       "<style scoped>\n",
       "    .dataframe tbody tr th:only-of-type {\n",
       "        vertical-align: middle;\n",
       "    }\n",
       "\n",
       "    .dataframe tbody tr th {\n",
       "        vertical-align: top;\n",
       "    }\n",
       "\n",
       "    .dataframe thead th {\n",
       "        text-align: right;\n",
       "    }\n",
       "</style>\n",
       "<table border=\"1\" class=\"dataframe\">\n",
       "  <thead>\n",
       "    <tr style=\"text-align: right;\">\n",
       "      <th></th>\n",
       "      <th>source_id</th>\n",
       "      <th>dt</th>\n",
       "      <th>costs</th>\n",
       "    </tr>\n",
       "  </thead>\n",
       "  <tbody>\n",
       "    <tr>\n",
       "      <th>494</th>\n",
       "      <td>2</td>\n",
       "      <td>2017-10-10</td>\n",
       "      <td>133.24</td>\n",
       "    </tr>\n",
       "  </tbody>\n",
       "</table>\n",
       "</div>"
      ],
      "text/plain": [
       "     source_id          dt   costs\n",
       "494          2  2017-10-10  133.24"
      ]
     },
     "execution_count": 6,
     "metadata": {},
     "output_type": "execute_result"
    }
   ],
   "source": [
    "costs.sample()"
   ]
  },
  {
   "cell_type": "code",
   "execution_count": 7,
   "metadata": {},
   "outputs": [
    {
     "data": {
      "text/plain": [
       "(2542, 3)"
      ]
     },
     "execution_count": 7,
     "metadata": {},
     "output_type": "execute_result"
    }
   ],
   "source": [
    "costs.shape"
   ]
  },
  {
   "cell_type": "code",
   "execution_count": 8,
   "metadata": {},
   "outputs": [
    {
     "data": {
      "text/html": [
       "<div>\n",
       "<style scoped>\n",
       "    .dataframe tbody tr th:only-of-type {\n",
       "        vertical-align: middle;\n",
       "    }\n",
       "\n",
       "    .dataframe tbody tr th {\n",
       "        vertical-align: top;\n",
       "    }\n",
       "\n",
       "    .dataframe thead th {\n",
       "        text-align: right;\n",
       "    }\n",
       "</style>\n",
       "<table border=\"1\" class=\"dataframe\">\n",
       "  <thead>\n",
       "    <tr style=\"text-align: right;\">\n",
       "      <th></th>\n",
       "      <th>source_id</th>\n",
       "      <th>dt</th>\n",
       "      <th>costs</th>\n",
       "    </tr>\n",
       "  </thead>\n",
       "  <tbody>\n",
       "    <tr>\n",
       "      <th>2235</th>\n",
       "      <td>10</td>\n",
       "      <td>2017-07-27</td>\n",
       "      <td>0.54</td>\n",
       "    </tr>\n",
       "    <tr>\n",
       "      <th>1755</th>\n",
       "      <td>5</td>\n",
       "      <td>2018-03-31</td>\n",
       "      <td>0.70</td>\n",
       "    </tr>\n",
       "    <tr>\n",
       "      <th>1379</th>\n",
       "      <td>4</td>\n",
       "      <td>2018-03-18</td>\n",
       "      <td>0.83</td>\n",
       "    </tr>\n",
       "    <tr>\n",
       "      <th>2253</th>\n",
       "      <td>10</td>\n",
       "      <td>2017-08-14</td>\n",
       "      <td>1.22</td>\n",
       "    </tr>\n",
       "    <tr>\n",
       "      <th>1431</th>\n",
       "      <td>4</td>\n",
       "      <td>2018-05-11</td>\n",
       "      <td>1.31</td>\n",
       "    </tr>\n",
       "  </tbody>\n",
       "</table>\n",
       "</div>"
      ],
      "text/plain": [
       "      source_id          dt  costs\n",
       "2235         10  2017-07-27   0.54\n",
       "1755          5  2018-03-31   0.70\n",
       "1379          4  2018-03-18   0.83\n",
       "2253         10  2017-08-14   1.22\n",
       "1431          4  2018-05-11   1.31"
      ]
     },
     "execution_count": 8,
     "metadata": {},
     "output_type": "execute_result"
    }
   ],
   "source": [
    "costs.nsmallest(5, 'costs') "
   ]
  },
  {
   "cell_type": "code",
   "execution_count": 9,
   "metadata": {},
   "outputs": [
    {
     "data": {
      "text/html": [
       "<div>\n",
       "<style scoped>\n",
       "    .dataframe tbody tr th:only-of-type {\n",
       "        vertical-align: middle;\n",
       "    }\n",
       "\n",
       "    .dataframe tbody tr th {\n",
       "        vertical-align: top;\n",
       "    }\n",
       "\n",
       "    .dataframe thead th {\n",
       "        text-align: right;\n",
       "    }\n",
       "</style>\n",
       "<table border=\"1\" class=\"dataframe\">\n",
       "  <thead>\n",
       "    <tr style=\"text-align: right;\">\n",
       "      <th></th>\n",
       "      <th>source_id</th>\n",
       "      <th>dt</th>\n",
       "      <th>costs</th>\n",
       "    </tr>\n",
       "  </thead>\n",
       "  <tbody>\n",
       "    <tr>\n",
       "      <th>902</th>\n",
       "      <td>3</td>\n",
       "      <td>2017-11-24</td>\n",
       "      <td>1788.28</td>\n",
       "    </tr>\n",
       "    <tr>\n",
       "      <th>919</th>\n",
       "      <td>3</td>\n",
       "      <td>2017-12-11</td>\n",
       "      <td>1061.18</td>\n",
       "    </tr>\n",
       "    <tr>\n",
       "      <th>1005</th>\n",
       "      <td>3</td>\n",
       "      <td>2018-03-07</td>\n",
       "      <td>996.15</td>\n",
       "    </tr>\n",
       "    <tr>\n",
       "      <th>853</th>\n",
       "      <td>3</td>\n",
       "      <td>2017-10-06</td>\n",
       "      <td>980.52</td>\n",
       "    </tr>\n",
       "    <tr>\n",
       "      <th>936</th>\n",
       "      <td>3</td>\n",
       "      <td>2017-12-28</td>\n",
       "      <td>858.28</td>\n",
       "    </tr>\n",
       "  </tbody>\n",
       "</table>\n",
       "</div>"
      ],
      "text/plain": [
       "      source_id          dt    costs\n",
       "902           3  2017-11-24  1788.28\n",
       "919           3  2017-12-11  1061.18\n",
       "1005          3  2018-03-07   996.15\n",
       "853           3  2017-10-06   980.52\n",
       "936           3  2017-12-28   858.28"
      ]
     },
     "execution_count": 9,
     "metadata": {},
     "output_type": "execute_result"
    }
   ],
   "source": [
    "costs.nlargest(5,'costs')"
   ]
  },
  {
   "cell_type": "code",
   "execution_count": 10,
   "metadata": {},
   "outputs": [
    {
     "name": "stdout",
     "output_type": "stream",
     "text": [
      "<class 'pandas.core.frame.DataFrame'>\n",
      "RangeIndex: 2542 entries, 0 to 2541\n",
      "Data columns (total 3 columns):\n",
      " #   Column     Non-Null Count  Dtype  \n",
      "---  ------     --------------  -----  \n",
      " 0   source_id  2542 non-null   int64  \n",
      " 1   dt         2542 non-null   object \n",
      " 2   costs      2542 non-null   float64\n",
      "dtypes: float64(1), int64(1), object(1)\n",
      "memory usage: 59.7+ KB\n"
     ]
    }
   ],
   "source": [
    "costs.info()"
   ]
  },
  {
   "cell_type": "code",
   "execution_count": 11,
   "metadata": {},
   "outputs": [
    {
     "name": "stdout",
     "output_type": "stream",
     "text": [
      "0\n"
     ]
    }
   ],
   "source": [
    "print(costs.duplicated().sum())"
   ]
  },
  {
   "cell_type": "code",
   "execution_count": 12,
   "metadata": {},
   "outputs": [
    {
     "data": {
      "text/plain": [
       "16.25     3\n",
       "50.77     3\n",
       "12.87     3\n",
       "6.35      3\n",
       "16.81     3\n",
       "         ..\n",
       "193.39    1\n",
       "13.68     1\n",
       "91.65     1\n",
       "45.10     1\n",
       "62.25     1\n",
       "Name: costs, Length: 2396, dtype: int64"
      ]
     },
     "execution_count": 12,
     "metadata": {},
     "output_type": "execute_result"
    }
   ],
   "source": [
    "costs['costs'].value_counts()"
   ]
  },
  {
   "cell_type": "code",
   "execution_count": 13,
   "metadata": {},
   "outputs": [
    {
     "data": {
      "text/html": [
       "<div>\n",
       "<style scoped>\n",
       "    .dataframe tbody tr th:only-of-type {\n",
       "        vertical-align: middle;\n",
       "    }\n",
       "\n",
       "    .dataframe tbody tr th {\n",
       "        vertical-align: top;\n",
       "    }\n",
       "\n",
       "    .dataframe thead th {\n",
       "        text-align: right;\n",
       "    }\n",
       "</style>\n",
       "<table border=\"1\" class=\"dataframe\">\n",
       "  <thead>\n",
       "    <tr style=\"text-align: right;\">\n",
       "      <th></th>\n",
       "      <th>source_id</th>\n",
       "      <th>costs</th>\n",
       "    </tr>\n",
       "  </thead>\n",
       "  <tbody>\n",
       "    <tr>\n",
       "      <th>count</th>\n",
       "      <td>2542.000000</td>\n",
       "      <td>2542.000000</td>\n",
       "    </tr>\n",
       "    <tr>\n",
       "      <th>mean</th>\n",
       "      <td>4.857199</td>\n",
       "      <td>129.477427</td>\n",
       "    </tr>\n",
       "    <tr>\n",
       "      <th>std</th>\n",
       "      <td>3.181581</td>\n",
       "      <td>156.296628</td>\n",
       "    </tr>\n",
       "    <tr>\n",
       "      <th>min</th>\n",
       "      <td>1.000000</td>\n",
       "      <td>0.540000</td>\n",
       "    </tr>\n",
       "    <tr>\n",
       "      <th>25%</th>\n",
       "      <td>2.000000</td>\n",
       "      <td>21.945000</td>\n",
       "    </tr>\n",
       "    <tr>\n",
       "      <th>50%</th>\n",
       "      <td>4.000000</td>\n",
       "      <td>77.295000</td>\n",
       "    </tr>\n",
       "    <tr>\n",
       "      <th>75%</th>\n",
       "      <td>9.000000</td>\n",
       "      <td>170.065000</td>\n",
       "    </tr>\n",
       "    <tr>\n",
       "      <th>max</th>\n",
       "      <td>10.000000</td>\n",
       "      <td>1788.280000</td>\n",
       "    </tr>\n",
       "  </tbody>\n",
       "</table>\n",
       "</div>"
      ],
      "text/plain": [
       "         source_id        costs\n",
       "count  2542.000000  2542.000000\n",
       "mean      4.857199   129.477427\n",
       "std       3.181581   156.296628\n",
       "min       1.000000     0.540000\n",
       "25%       2.000000    21.945000\n",
       "50%       4.000000    77.295000\n",
       "75%       9.000000   170.065000\n",
       "max      10.000000  1788.280000"
      ]
     },
     "execution_count": 13,
     "metadata": {},
     "output_type": "execute_result"
    }
   ],
   "source": [
    "costs.describe()"
   ]
  },
  {
   "cell_type": "code",
   "execution_count": 14,
   "metadata": {},
   "outputs": [
    {
     "data": {
      "text/plain": [
       "source_id    0.0\n",
       "dt           0.0\n",
       "costs        0.0\n",
       "dtype: float64"
      ]
     },
     "execution_count": 14,
     "metadata": {},
     "output_type": "execute_result"
    }
   ],
   "source": [
    "costs.isna().mean().round(4) * 100"
   ]
  },
  {
   "cell_type": "code",
   "execution_count": 15,
   "metadata": {},
   "outputs": [
    {
     "data": {
      "text/plain": [
       "source_id    0\n",
       "dt           0\n",
       "costs        0\n",
       "dtype: int64"
      ]
     },
     "execution_count": 15,
     "metadata": {},
     "output_type": "execute_result"
    }
   ],
   "source": [
    "costs.isnull().sum()"
   ]
  },
  {
   "cell_type": "markdown",
   "metadata": {},
   "source": [
    "### Conclusion <a name=\"conclusion1\"></a>\n",
    "\n",
    "The shape pf cost dataset: 3 columns and 2542 rows.\n",
    "\n",
    "The 5 smallest values fir the cost column range from 0.54 to 1.31. The biggest 5 values range from 885.28 to 1788. Based on the somewhat consistent distribution relative to the value size, the column does not appear to have serious outliers. \n",
    "\n",
    "The column that contains dates needs to be converted to date time format as currently it is listed object. \n",
    "\n",
    "The cost dataset does not have duplicates or NaNs, but has repeated numerical values.\n"
   ]
  },
  {
   "cell_type": "markdown",
   "metadata": {},
   "source": [
    "### Second Dataset - Orders_log (data on orders) <a name=\"dataset2\"></a>"
   ]
  },
  {
   "cell_type": "code",
   "execution_count": 16,
   "metadata": {},
   "outputs": [],
   "source": [
    "orders_log = pd.read_csv('/Users/annaperkas/Downloads/orders_log_us.csv')\n",
    "orders_log.head(10);"
   ]
  },
  {
   "cell_type": "code",
   "execution_count": 17,
   "metadata": {},
   "outputs": [],
   "source": [
    "orders_log.tail();"
   ]
  },
  {
   "cell_type": "code",
   "execution_count": 18,
   "metadata": {},
   "outputs": [
    {
     "data": {
      "text/html": [
       "<div>\n",
       "<style scoped>\n",
       "    .dataframe tbody tr th:only-of-type {\n",
       "        vertical-align: middle;\n",
       "    }\n",
       "\n",
       "    .dataframe tbody tr th {\n",
       "        vertical-align: top;\n",
       "    }\n",
       "\n",
       "    .dataframe thead th {\n",
       "        text-align: right;\n",
       "    }\n",
       "</style>\n",
       "<table border=\"1\" class=\"dataframe\">\n",
       "  <thead>\n",
       "    <tr style=\"text-align: right;\">\n",
       "      <th></th>\n",
       "      <th>Buy Ts</th>\n",
       "      <th>Revenue</th>\n",
       "      <th>Uid</th>\n",
       "    </tr>\n",
       "  </thead>\n",
       "  <tbody>\n",
       "    <tr>\n",
       "      <th>10880</th>\n",
       "      <td>2017-10-05 18:11:00</td>\n",
       "      <td>3.05</td>\n",
       "      <td>17420375917464236090</td>\n",
       "    </tr>\n",
       "  </tbody>\n",
       "</table>\n",
       "</div>"
      ],
      "text/plain": [
       "                    Buy Ts  Revenue                   Uid\n",
       "10880  2017-10-05 18:11:00     3.05  17420375917464236090"
      ]
     },
     "execution_count": 18,
     "metadata": {},
     "output_type": "execute_result"
    }
   ],
   "source": [
    "orders_log.sample()"
   ]
  },
  {
   "cell_type": "code",
   "execution_count": 19,
   "metadata": {},
   "outputs": [
    {
     "data": {
      "text/plain": [
       "(50415, 3)"
      ]
     },
     "execution_count": 19,
     "metadata": {},
     "output_type": "execute_result"
    }
   ],
   "source": [
    "orders_log.shape"
   ]
  },
  {
   "cell_type": "code",
   "execution_count": 20,
   "metadata": {},
   "outputs": [
    {
     "data": {
      "text/html": [
       "<div>\n",
       "<style scoped>\n",
       "    .dataframe tbody tr th:only-of-type {\n",
       "        vertical-align: middle;\n",
       "    }\n",
       "\n",
       "    .dataframe tbody tr th {\n",
       "        vertical-align: top;\n",
       "    }\n",
       "\n",
       "    .dataframe thead th {\n",
       "        text-align: right;\n",
       "    }\n",
       "</style>\n",
       "<table border=\"1\" class=\"dataframe\">\n",
       "  <thead>\n",
       "    <tr style=\"text-align: right;\">\n",
       "      <th></th>\n",
       "      <th>Buy Ts</th>\n",
       "      <th>Revenue</th>\n",
       "      <th>Uid</th>\n",
       "    </tr>\n",
       "  </thead>\n",
       "  <tbody>\n",
       "    <tr>\n",
       "      <th>1802</th>\n",
       "      <td>2017-06-22 18:19:00</td>\n",
       "      <td>0.0</td>\n",
       "      <td>17030528792926543083</td>\n",
       "    </tr>\n",
       "    <tr>\n",
       "      <th>2787</th>\n",
       "      <td>2017-07-07 15:54:00</td>\n",
       "      <td>0.0</td>\n",
       "      <td>10281425020415612933</td>\n",
       "    </tr>\n",
       "    <tr>\n",
       "      <th>4783</th>\n",
       "      <td>2017-08-02 14:54:00</td>\n",
       "      <td>0.0</td>\n",
       "      <td>184148767273119549</td>\n",
       "    </tr>\n",
       "    <tr>\n",
       "      <th>5095</th>\n",
       "      <td>2017-08-09 14:48:00</td>\n",
       "      <td>0.0</td>\n",
       "      <td>5603453646174104178</td>\n",
       "    </tr>\n",
       "    <tr>\n",
       "      <th>5863</th>\n",
       "      <td>2017-08-23 13:43:00</td>\n",
       "      <td>0.0</td>\n",
       "      <td>5603453646174104178</td>\n",
       "    </tr>\n",
       "  </tbody>\n",
       "</table>\n",
       "</div>"
      ],
      "text/plain": [
       "                   Buy Ts  Revenue                   Uid\n",
       "1802  2017-06-22 18:19:00      0.0  17030528792926543083\n",
       "2787  2017-07-07 15:54:00      0.0  10281425020415612933\n",
       "4783  2017-08-02 14:54:00      0.0    184148767273119549\n",
       "5095  2017-08-09 14:48:00      0.0   5603453646174104178\n",
       "5863  2017-08-23 13:43:00      0.0   5603453646174104178"
      ]
     },
     "execution_count": 20,
     "metadata": {},
     "output_type": "execute_result"
    }
   ],
   "source": [
    "orders_log.nsmallest(5,'Revenue') "
   ]
  },
  {
   "cell_type": "code",
   "execution_count": 21,
   "metadata": {},
   "outputs": [
    {
     "data": {
      "text/html": [
       "<div>\n",
       "<style scoped>\n",
       "    .dataframe tbody tr th:only-of-type {\n",
       "        vertical-align: middle;\n",
       "    }\n",
       "\n",
       "    .dataframe tbody tr th {\n",
       "        vertical-align: top;\n",
       "    }\n",
       "\n",
       "    .dataframe thead th {\n",
       "        text-align: right;\n",
       "    }\n",
       "</style>\n",
       "<table border=\"1\" class=\"dataframe\">\n",
       "  <thead>\n",
       "    <tr style=\"text-align: right;\">\n",
       "      <th></th>\n",
       "      <th>Buy Ts</th>\n",
       "      <th>Revenue</th>\n",
       "      <th>Uid</th>\n",
       "    </tr>\n",
       "  </thead>\n",
       "  <tbody>\n",
       "    <tr>\n",
       "      <th>23244</th>\n",
       "      <td>2017-12-10 20:17:00</td>\n",
       "      <td>2633.28</td>\n",
       "      <td>5539673724080479777</td>\n",
       "    </tr>\n",
       "    <tr>\n",
       "      <th>36522</th>\n",
       "      <td>2018-02-23 08:54:00</td>\n",
       "      <td>1236.28</td>\n",
       "      <td>11149926373378902217</td>\n",
       "    </tr>\n",
       "    <tr>\n",
       "      <th>36682</th>\n",
       "      <td>2018-02-24 09:25:00</td>\n",
       "      <td>1221.37</td>\n",
       "      <td>11149926373378902217</td>\n",
       "    </tr>\n",
       "    <tr>\n",
       "      <th>23165</th>\n",
       "      <td>2017-12-10 13:04:00</td>\n",
       "      <td>1195.64</td>\n",
       "      <td>5539673724080479777</td>\n",
       "    </tr>\n",
       "    <tr>\n",
       "      <th>24607</th>\n",
       "      <td>2017-12-17 18:06:00</td>\n",
       "      <td>1109.10</td>\n",
       "      <td>11149926373378902217</td>\n",
       "    </tr>\n",
       "  </tbody>\n",
       "</table>\n",
       "</div>"
      ],
      "text/plain": [
       "                    Buy Ts  Revenue                   Uid\n",
       "23244  2017-12-10 20:17:00  2633.28   5539673724080479777\n",
       "36522  2018-02-23 08:54:00  1236.28  11149926373378902217\n",
       "36682  2018-02-24 09:25:00  1221.37  11149926373378902217\n",
       "23165  2017-12-10 13:04:00  1195.64   5539673724080479777\n",
       "24607  2017-12-17 18:06:00  1109.10  11149926373378902217"
      ]
     },
     "execution_count": 21,
     "metadata": {},
     "output_type": "execute_result"
    }
   ],
   "source": [
    "orders_log.nlargest(5,'Revenue')"
   ]
  },
  {
   "cell_type": "code",
   "execution_count": 22,
   "metadata": {},
   "outputs": [
    {
     "name": "stdout",
     "output_type": "stream",
     "text": [
      "<class 'pandas.core.frame.DataFrame'>\n",
      "RangeIndex: 50415 entries, 0 to 50414\n",
      "Data columns (total 3 columns):\n",
      " #   Column   Non-Null Count  Dtype  \n",
      "---  ------   --------------  -----  \n",
      " 0   Buy Ts   50415 non-null  object \n",
      " 1   Revenue  50415 non-null  float64\n",
      " 2   Uid      50415 non-null  uint64 \n",
      "dtypes: float64(1), object(1), uint64(1)\n",
      "memory usage: 1.2+ MB\n"
     ]
    }
   ],
   "source": [
    "orders_log.info()"
   ]
  },
  {
   "cell_type": "code",
   "execution_count": 23,
   "metadata": {},
   "outputs": [
    {
     "name": "stdout",
     "output_type": "stream",
     "text": [
      "0\n"
     ]
    }
   ],
   "source": [
    "print(orders_log.duplicated().sum())"
   ]
  },
  {
   "cell_type": "code",
   "execution_count": 24,
   "metadata": {},
   "outputs": [
    {
     "data": {
      "text/plain": [
       "3644482766749211722     239\n",
       "13888745432979765063    238\n",
       "11920452646463905188    227\n",
       "6731421022966725351     183\n",
       "5139615590553126732     150\n",
       "                       ... \n",
       "10123118655365033769      1\n",
       "17398492294358629398      1\n",
       "15974676665349104064      1\n",
       "16705253310465048548      1\n",
       "9505264890679494151       1\n",
       "Name: Uid, Length: 36523, dtype: int64"
      ]
     },
     "execution_count": 24,
     "metadata": {},
     "output_type": "execute_result"
    }
   ],
   "source": [
    "orders_log['Uid'].value_counts()"
   ]
  },
  {
   "cell_type": "code",
   "execution_count": 25,
   "metadata": {},
   "outputs": [
    {
     "data": {
      "text/html": [
       "<div>\n",
       "<style scoped>\n",
       "    .dataframe tbody tr th:only-of-type {\n",
       "        vertical-align: middle;\n",
       "    }\n",
       "\n",
       "    .dataframe tbody tr th {\n",
       "        vertical-align: top;\n",
       "    }\n",
       "\n",
       "    .dataframe thead th {\n",
       "        text-align: right;\n",
       "    }\n",
       "</style>\n",
       "<table border=\"1\" class=\"dataframe\">\n",
       "  <thead>\n",
       "    <tr style=\"text-align: right;\">\n",
       "      <th></th>\n",
       "      <th>Revenue</th>\n",
       "      <th>Uid</th>\n",
       "    </tr>\n",
       "  </thead>\n",
       "  <tbody>\n",
       "    <tr>\n",
       "      <th>count</th>\n",
       "      <td>50415.000000</td>\n",
       "      <td>5.041500e+04</td>\n",
       "    </tr>\n",
       "    <tr>\n",
       "      <th>mean</th>\n",
       "      <td>4.999647</td>\n",
       "      <td>9.098161e+18</td>\n",
       "    </tr>\n",
       "    <tr>\n",
       "      <th>std</th>\n",
       "      <td>21.818359</td>\n",
       "      <td>5.285742e+18</td>\n",
       "    </tr>\n",
       "    <tr>\n",
       "      <th>min</th>\n",
       "      <td>0.000000</td>\n",
       "      <td>3.135781e+14</td>\n",
       "    </tr>\n",
       "    <tr>\n",
       "      <th>25%</th>\n",
       "      <td>1.220000</td>\n",
       "      <td>4.533567e+18</td>\n",
       "    </tr>\n",
       "    <tr>\n",
       "      <th>50%</th>\n",
       "      <td>2.500000</td>\n",
       "      <td>9.102274e+18</td>\n",
       "    </tr>\n",
       "    <tr>\n",
       "      <th>75%</th>\n",
       "      <td>4.890000</td>\n",
       "      <td>1.368290e+19</td>\n",
       "    </tr>\n",
       "    <tr>\n",
       "      <th>max</th>\n",
       "      <td>2633.280000</td>\n",
       "      <td>1.844617e+19</td>\n",
       "    </tr>\n",
       "  </tbody>\n",
       "</table>\n",
       "</div>"
      ],
      "text/plain": [
       "            Revenue           Uid\n",
       "count  50415.000000  5.041500e+04\n",
       "mean       4.999647  9.098161e+18\n",
       "std       21.818359  5.285742e+18\n",
       "min        0.000000  3.135781e+14\n",
       "25%        1.220000  4.533567e+18\n",
       "50%        2.500000  9.102274e+18\n",
       "75%        4.890000  1.368290e+19\n",
       "max     2633.280000  1.844617e+19"
      ]
     },
     "execution_count": 25,
     "metadata": {},
     "output_type": "execute_result"
    }
   ],
   "source": [
    "orders_log.describe()"
   ]
  },
  {
   "cell_type": "code",
   "execution_count": 26,
   "metadata": {},
   "outputs": [
    {
     "data": {
      "text/plain": [
       "Buy Ts     0.0\n",
       "Revenue    0.0\n",
       "Uid        0.0\n",
       "dtype: float64"
      ]
     },
     "execution_count": 26,
     "metadata": {},
     "output_type": "execute_result"
    }
   ],
   "source": [
    "orders_log.isna().mean().round(4) * 100"
   ]
  },
  {
   "cell_type": "code",
   "execution_count": 27,
   "metadata": {},
   "outputs": [
    {
     "data": {
      "text/plain": [
       "Buy Ts     0\n",
       "Revenue    0\n",
       "Uid        0\n",
       "dtype: int64"
      ]
     },
     "execution_count": 27,
     "metadata": {},
     "output_type": "execute_result"
    }
   ],
   "source": [
    "orders_log.isnull().sum()"
   ]
  },
  {
   "cell_type": "markdown",
   "metadata": {},
   "source": [
    "### Conclusion  <a name=\"conclusion2\"></a>\n",
    "\n",
    "The revenue column of the orders_log dataset has 3 columns and 50415 rows.The smallest values are zeros which can be filtered out as further analysis is focused on cases where a user either purchased something or did not and zeros might indicate the absence of activity or lack of data.\n",
    "\n",
    "The largest 5 values range from 1109.10 to 2633.28.In this dataset the dates column also needs to be changed to datetime.\n",
    "\n",
    "The orders_log does not have duplicates or NaNs\n"
   ]
  },
  {
   "cell_type": "markdown",
   "metadata": {},
   "source": [
    "### Third Dataset - Visits_log (server logs with data on website visits)  <a name=\"dataset3\"></a>"
   ]
  },
  {
   "cell_type": "code",
   "execution_count": 28,
   "metadata": {},
   "outputs": [],
   "source": [
    "visits_log = pd.read_csv('/Users/annaperkas/Downloads/visits_log_us.csv')\n",
    "visits_log.head();"
   ]
  },
  {
   "cell_type": "code",
   "execution_count": 29,
   "metadata": {},
   "outputs": [],
   "source": [
    "visits_log.tail();"
   ]
  },
  {
   "cell_type": "code",
   "execution_count": 30,
   "metadata": {},
   "outputs": [
    {
     "data": {
      "text/html": [
       "<div>\n",
       "<style scoped>\n",
       "    .dataframe tbody tr th:only-of-type {\n",
       "        vertical-align: middle;\n",
       "    }\n",
       "\n",
       "    .dataframe tbody tr th {\n",
       "        vertical-align: top;\n",
       "    }\n",
       "\n",
       "    .dataframe thead th {\n",
       "        text-align: right;\n",
       "    }\n",
       "</style>\n",
       "<table border=\"1\" class=\"dataframe\">\n",
       "  <thead>\n",
       "    <tr style=\"text-align: right;\">\n",
       "      <th></th>\n",
       "      <th>Device</th>\n",
       "      <th>End Ts</th>\n",
       "      <th>Source Id</th>\n",
       "      <th>Start Ts</th>\n",
       "      <th>Uid</th>\n",
       "    </tr>\n",
       "  </thead>\n",
       "  <tbody>\n",
       "    <tr>\n",
       "      <th>256168</th>\n",
       "      <td>desktop</td>\n",
       "      <td>2018-05-20 16:31:00</td>\n",
       "      <td>3</td>\n",
       "      <td>2018-05-20 16:20:00</td>\n",
       "      <td>199111786914957873</td>\n",
       "    </tr>\n",
       "  </tbody>\n",
       "</table>\n",
       "</div>"
      ],
      "text/plain": [
       "         Device               End Ts  Source Id             Start Ts  \\\n",
       "256168  desktop  2018-05-20 16:31:00          3  2018-05-20 16:20:00   \n",
       "\n",
       "                       Uid  \n",
       "256168  199111786914957873  "
      ]
     },
     "execution_count": 30,
     "metadata": {},
     "output_type": "execute_result"
    }
   ],
   "source": [
    "visits_log.sample()"
   ]
  },
  {
   "cell_type": "code",
   "execution_count": 31,
   "metadata": {},
   "outputs": [
    {
     "data": {
      "text/plain": [
       "(359400, 5)"
      ]
     },
     "execution_count": 31,
     "metadata": {},
     "output_type": "execute_result"
    }
   ],
   "source": [
    "visits_log.shape"
   ]
  },
  {
   "cell_type": "code",
   "execution_count": 32,
   "metadata": {},
   "outputs": [
    {
     "name": "stdout",
     "output_type": "stream",
     "text": [
      "<class 'pandas.core.frame.DataFrame'>\n",
      "RangeIndex: 359400 entries, 0 to 359399\n",
      "Data columns (total 5 columns):\n",
      " #   Column     Non-Null Count   Dtype \n",
      "---  ------     --------------   ----- \n",
      " 0   Device     359400 non-null  object\n",
      " 1   End Ts     359400 non-null  object\n",
      " 2   Source Id  359400 non-null  int64 \n",
      " 3   Start Ts   359400 non-null  object\n",
      " 4   Uid        359400 non-null  uint64\n",
      "dtypes: int64(1), object(3), uint64(1)\n",
      "memory usage: 13.7+ MB\n"
     ]
    }
   ],
   "source": [
    "visits_log.info()"
   ]
  },
  {
   "cell_type": "code",
   "execution_count": 33,
   "metadata": {},
   "outputs": [
    {
     "name": "stdout",
     "output_type": "stream",
     "text": [
      "0\n"
     ]
    }
   ],
   "source": [
    "print(visits_log.duplicated().sum())"
   ]
  },
  {
   "cell_type": "code",
   "execution_count": 34,
   "metadata": {},
   "outputs": [
    {
     "data": {
      "text/plain": [
       "desktop    262567\n",
       "touch       96833\n",
       "Name: Device, dtype: int64"
      ]
     },
     "execution_count": 34,
     "metadata": {},
     "output_type": "execute_result"
    }
   ],
   "source": [
    "visits_log['Device'].value_counts()"
   ]
  },
  {
   "cell_type": "code",
   "execution_count": 35,
   "metadata": {},
   "outputs": [
    {
     "data": {
      "text/html": [
       "<div>\n",
       "<style scoped>\n",
       "    .dataframe tbody tr th:only-of-type {\n",
       "        vertical-align: middle;\n",
       "    }\n",
       "\n",
       "    .dataframe tbody tr th {\n",
       "        vertical-align: top;\n",
       "    }\n",
       "\n",
       "    .dataframe thead th {\n",
       "        text-align: right;\n",
       "    }\n",
       "</style>\n",
       "<table border=\"1\" class=\"dataframe\">\n",
       "  <thead>\n",
       "    <tr style=\"text-align: right;\">\n",
       "      <th></th>\n",
       "      <th>Source Id</th>\n",
       "      <th>Uid</th>\n",
       "    </tr>\n",
       "  </thead>\n",
       "  <tbody>\n",
       "    <tr>\n",
       "      <th>count</th>\n",
       "      <td>359400.000000</td>\n",
       "      <td>3.594000e+05</td>\n",
       "    </tr>\n",
       "    <tr>\n",
       "      <th>mean</th>\n",
       "      <td>3.750515</td>\n",
       "      <td>9.202557e+18</td>\n",
       "    </tr>\n",
       "    <tr>\n",
       "      <th>std</th>\n",
       "      <td>1.917116</td>\n",
       "      <td>5.298433e+18</td>\n",
       "    </tr>\n",
       "    <tr>\n",
       "      <th>min</th>\n",
       "      <td>1.000000</td>\n",
       "      <td>1.186350e+13</td>\n",
       "    </tr>\n",
       "    <tr>\n",
       "      <th>25%</th>\n",
       "      <td>3.000000</td>\n",
       "      <td>4.613407e+18</td>\n",
       "    </tr>\n",
       "    <tr>\n",
       "      <th>50%</th>\n",
       "      <td>4.000000</td>\n",
       "      <td>9.227413e+18</td>\n",
       "    </tr>\n",
       "    <tr>\n",
       "      <th>75%</th>\n",
       "      <td>5.000000</td>\n",
       "      <td>1.372824e+19</td>\n",
       "    </tr>\n",
       "    <tr>\n",
       "      <th>max</th>\n",
       "      <td>10.000000</td>\n",
       "      <td>1.844668e+19</td>\n",
       "    </tr>\n",
       "  </tbody>\n",
       "</table>\n",
       "</div>"
      ],
      "text/plain": [
       "           Source Id           Uid\n",
       "count  359400.000000  3.594000e+05\n",
       "mean        3.750515  9.202557e+18\n",
       "std         1.917116  5.298433e+18\n",
       "min         1.000000  1.186350e+13\n",
       "25%         3.000000  4.613407e+18\n",
       "50%         4.000000  9.227413e+18\n",
       "75%         5.000000  1.372824e+19\n",
       "max        10.000000  1.844668e+19"
      ]
     },
     "execution_count": 35,
     "metadata": {},
     "output_type": "execute_result"
    }
   ],
   "source": [
    "visits_log.describe()"
   ]
  },
  {
   "cell_type": "code",
   "execution_count": 36,
   "metadata": {},
   "outputs": [
    {
     "data": {
      "text/plain": [
       "array([ 4,  2,  5,  9,  3,  1, 10,  7,  6])"
      ]
     },
     "execution_count": 36,
     "metadata": {},
     "output_type": "execute_result"
    }
   ],
   "source": [
    "visits_log['Source Id'].unique()"
   ]
  },
  {
   "cell_type": "code",
   "execution_count": 37,
   "metadata": {},
   "outputs": [
    {
     "data": {
      "text/plain": [
       "Device       0.0\n",
       "End Ts       0.0\n",
       "Source Id    0.0\n",
       "Start Ts     0.0\n",
       "Uid          0.0\n",
       "dtype: float64"
      ]
     },
     "execution_count": 37,
     "metadata": {},
     "output_type": "execute_result"
    }
   ],
   "source": [
    "visits_log.isna().mean().round(4) * 100"
   ]
  },
  {
   "cell_type": "code",
   "execution_count": 38,
   "metadata": {},
   "outputs": [
    {
     "data": {
      "text/plain": [
       "Device       0\n",
       "End Ts       0\n",
       "Source Id    0\n",
       "Start Ts     0\n",
       "Uid          0\n",
       "dtype: int64"
      ]
     },
     "execution_count": 38,
     "metadata": {},
     "output_type": "execute_result"
    }
   ],
   "source": [
    "visits_log.isnull().sum()"
   ]
  },
  {
   "cell_type": "markdown",
   "metadata": {},
   "source": [
    "### Conclusion <a name=\"conclusion3\"></a>\n",
    "\n",
    "The dataset has 5 columns and 359400 rows. The dates columns need to be converted from object type to dataset. There are more “desktop” values than “touch” in the device column. There are no NaNs or null values."
   ]
  },
  {
   "cell_type": "markdown",
   "metadata": {},
   "source": [
    "### Preparing The Data  <a name=\"preparingdata\"></a>"
   ]
  },
  {
   "cell_type": "code",
   "execution_count": 39,
   "metadata": {},
   "outputs": [],
   "source": [
    "visits_log.columns = map(str.lower, visits_log.columns)\n",
    "#visits_log.head() #test"
   ]
  },
  {
   "cell_type": "code",
   "execution_count": 40,
   "metadata": {},
   "outputs": [],
   "source": [
    "orders_log.columns = map(str.lower, orders_log.columns)\n",
    "#orders_log.head()#test"
   ]
  },
  {
   "cell_type": "code",
   "execution_count": 41,
   "metadata": {},
   "outputs": [],
   "source": [
    "visits_log['end_ts'] = visits_log['end ts']\n",
    "visits_log['start_ts'] = visits_log['start ts']\n",
    "visits_log['user_id'] = visits_log['uid']"
   ]
  },
  {
   "cell_type": "code",
   "execution_count": 42,
   "metadata": {},
   "outputs": [],
   "source": [
    "orders_log['order_datetime'] = orders_log['buy ts'] \n",
    "orders_log['user_id'] = orders_log['uid']"
   ]
  },
  {
   "cell_type": "code",
   "execution_count": 43,
   "metadata": {},
   "outputs": [],
   "source": [
    "visits_log['start_ts'] = pd.to_datetime(visits_log['start_ts'], format =\"%Y-%m-%d %H:%M\")\n",
    "visits_log['end_ts'] = pd.to_datetime(visits_log['end_ts'], format=\"%Y-%m-%d %H:%M\")\n",
    "orders_log['order_datetime'] = pd.to_datetime(visits_log['start_ts'], format =\"%Y-%m-%d %H:%M\")\n",
    "costs['date'] = pd.to_datetime(costs['dt'], format =\"%Y-%m-%d %H:%M\")"
   ]
  },
  {
   "cell_type": "code",
   "execution_count": 44,
   "metadata": {},
   "outputs": [],
   "source": [
    "visits_log['session_year'] = visits_log['start_ts'].dt.year\n",
    "visits_log['session_month'] = visits_log['start_ts'].dt.month"
   ]
  },
  {
   "cell_type": "code",
   "execution_count": 45,
   "metadata": {},
   "outputs": [],
   "source": [
    "orders_log['order_month'] = orders_log['order_datetime'].dt.month\n",
    "orders_log['order_year'] = orders_log['order_datetime'].dt.year"
   ]
  },
  {
   "cell_type": "code",
   "execution_count": 46,
   "metadata": {},
   "outputs": [],
   "source": [
    "costs['order_date'] = costs['date'].dt.year"
   ]
  },
  {
   "cell_type": "code",
   "execution_count": 47,
   "metadata": {},
   "outputs": [],
   "source": [
    "costs['order_month'] = costs['date'].dt.month"
   ]
  },
  {
   "cell_type": "code",
   "execution_count": 48,
   "metadata": {},
   "outputs": [],
   "source": [
    "costs['month'] = costs['dt'].astype('datetime64[M]') \n",
    "orders_log['order_datetime'] = orders_log['order_datetime'].astype('datetime64[M]')\n",
    "\n",
    "new_date, new_time = zip(*[(d.date(), d.time()) for d in orders_log['order_datetime']]) \n",
    "orders_log = orders_log.assign(orders_month = new_date, orders_time= new_time)\n",
    "#orders_log.head() #test\n"
   ]
  },
  {
   "cell_type": "code",
   "execution_count": 49,
   "metadata": {},
   "outputs": [],
   "source": [
    "new_date, new_time = zip(*[(d.date(), d.time()) for d in visits_log['start_ts']]) \n",
    "visits_log = visits_log.assign(start_date = new_date, start_time = new_time)\n",
    "#visits_log.head() #test"
   ]
  },
  {
   "cell_type": "code",
   "execution_count": 50,
   "metadata": {
    "scrolled": true
   },
   "outputs": [
    {
     "data": {
      "image/png": "[encoded data removed]",
      "text/plain": [
       "<Figure size 432x288 with 1 Axes>"
      ]
     },
     "metadata": {
      "needs_background": "light"
     },
     "output_type": "display_data"
    }
   ],
   "source": [
    "plt.title('Detecting Outliers for the Costs Column')\n",
    "sns.boxplot(x=costs['costs'],color= 'SkyBlue').set(xlabel='Costs', ylabel='Outliers')\n",
    "\n",
    "costs = costs.query(\"costs < 900\")"
   ]
  },
  {
   "cell_type": "code",
   "execution_count": 51,
   "metadata": {},
   "outputs": [
    {
     "data": {
      "image/png": "[encoded data removed]",
      "text/plain": [
       "<Figure size 432x288 with 1 Axes>"
      ]
     },
     "metadata": {
      "needs_background": "light"
     },
     "output_type": "display_data"
    }
   ],
   "source": [
    "plt.title('Detecting Outliers for the Revenue Column')\n",
    "sns.boxplot(x=orders_log['revenue'],color= 'SkyBlue').set(xlabel='Revenue', ylabel='Outliers')\n",
    "\n",
    "removed_outliers_costs_1 = orders_log['revenue'].between(orders_log['revenue'].quantile(.05), orders_log['revenue'].quantile(.95))\n",
    "\n",
    "orders_log = orders_log.query(\"1 < revenue < 1500\")"
   ]
  },
  {
   "cell_type": "code",
   "execution_count": 52,
   "metadata": {},
   "outputs": [
    {
     "data": {
      "text/plain": [
       "9.876182526432943"
      ]
     },
     "execution_count": 52,
     "metadata": {},
     "output_type": "execute_result"
    }
   ],
   "source": [
    "removed_outliers_costs_1.sum()\n",
    "percentage_of_outliers_1 = 35495 * 100 / 359400 \n",
    "percentage_of_outliers_1"
   ]
  },
  {
   "cell_type": "markdown",
   "metadata": {},
   "source": [
    "According to the graph for the \"revenue\" column, there are outliers around 1500 threshold which were subsequently removed. There were nearly 10 percent of relevant outliers in the initial data."
   ]
  },
  {
   "cell_type": "markdown",
   "metadata": {},
   "source": [
    "### Columns <a name=\"columns\"></a>\n",
    "\n",
    "The dataset has five columns and 359400 rows. The dates columns need to be converted from object type to dataset. There are more “desktop” values than “touch” in the device column. There are no NaNs or null values.\n",
    "\n",
    "\n",
    "The column names in the visits_log and orders_log are renamed and turned into lowercase for uniformity and neatness in analyzing. The dates columns from multiple data frames are converted to DateTime. The zeros from the revenue column of orders_log dataframe are filtered out. \n",
    "\n",
    "Some columns are converted to DateTime month to plot matrixes.\n",
    "\n",
    "Outliers are removed from the “costs” column of the costs dataframe and “revenue” column from the costs dataframe after detecting them with boxplots’ help. The data frames were not merged at this stage because they require separate analysis. "
   ]
  },
  {
   "cell_type": "markdown",
   "metadata": {},
   "source": [
    "## Step 2. Make reports and calculate metrics  <a name=\"reports\"></a>"
   ]
  },
  {
   "cell_type": "markdown",
   "metadata": {},
   "source": [
    "Here it is essential to understand the nature of the product. Yandex Afisha is a Russian speaking service that offers ticket purchasing to theaters, movies, exhibitions, etc. It also provides a search for different events and comprehensive descriptions. The service is offered in Russia's biggest cities.\n",
    "\n",
    "https://afisha.yandex.ru/moscow\n",
    "\n",
    "https://ru.wikipedia.org/wiki/Яндекс.Афиша"
   ]
  },
  {
   "cell_type": "markdown",
   "metadata": {},
   "source": [
    "### 1. Product  <a name=\"product\"></a>"
   ]
  },
  {
   "cell_type": "code",
   "execution_count": 53,
   "metadata": {},
   "outputs": [
    {
     "name": "stdout",
     "output_type": "stream",
     "text": [
      "DAU Total user_id    907.991758\n",
      "dtype: float64\n"
     ]
    }
   ],
   "source": [
    "visits_log['session_year'] = visits_log['start_ts'].dt.year\n",
    "visits_log['session_month'] = visits_log['start_ts'].dt.month\n",
    "visits_log['session_week']  = visits_log['start_ts'].dt.week\n",
    "visits_log['session_date'] = visits_log['start_ts'].dt.date\n",
    "\n",
    "dau_total = visits_log.groupby('session_date').agg({'user_id': 'nunique'}).mean()\n",
    "print('DAU Total',dau_total)\n"
   ]
  },
  {
   "cell_type": "code",
   "execution_count": 54,
   "metadata": {},
   "outputs": [
    {
     "data": {
      "text/plain": [
       "[Text(0, 0.5, 'Values'), Text(0.5, 0, 'Day'), Text(0.5, 1.0, 'DAU')]"
      ]
     },
     "execution_count": 54,
     "metadata": {},
     "output_type": "execute_result"
    },
    {
     "data": {
      "image/png": "[encoded data removed]",
      "text/plain": [
       "<Figure size 720x576 with 1 Axes>"
      ]
     },
     "metadata": {
      "needs_background": "light"
     },
     "output_type": "display_data"
    }
   ],
   "source": [
    "dau_total_day = visits_log.groupby('session_date').agg({'user_id': 'nunique'})\n",
    "\n",
    "plt.figure(figsize=(10,8)) \n",
    "\n",
    "sns.histplot(dau_total_day,color='Lime').set(title='DAU', xlabel='Day', ylabel='Values')"
   ]
  },
  {
   "cell_type": "code",
   "execution_count": 55,
   "metadata": {},
   "outputs": [
    {
     "name": "stdout",
     "output_type": "stream",
     "text": [
      "WAU Total user_id    5716.245283\n",
      "dtype: float64\n"
     ]
    }
   ],
   "source": [
    "wau_total = visits_log.groupby(['session_year', 'session_week']).agg({'user_id': 'nunique'}).mean()\n",
    "print('WAU Total',wau_total)"
   ]
  },
  {
   "cell_type": "code",
   "execution_count": 56,
   "metadata": {},
   "outputs": [
    {
     "data": {
      "text/plain": [
       "[Text(0, 0.5, 'Values'), Text(0.5, 0, 'Weeks'), Text(0.5, 1.0, 'WAU')]"
      ]
     },
     "execution_count": 56,
     "metadata": {},
     "output_type": "execute_result"
    },
    {
     "data": {
      "image/png": "[encoded data removed]",
      "text/plain": [
       "<Figure size 720x576 with 1 Axes>"
      ]
     },
     "metadata": {
      "needs_background": "light"
     },
     "output_type": "display_data"
    }
   ],
   "source": [
    "wau_total_week = visits_log.groupby(['session_year', 'session_week']).agg({'user_id': 'nunique'})\n",
    "plt.figure(figsize=(10,8))\n",
    "sns.histplot(wau_total_week).set(title='WAU', xlabel='Weeks', ylabel='Values')"
   ]
  },
  {
   "cell_type": "code",
   "execution_count": 57,
   "metadata": {},
   "outputs": [
    {
     "name": "stdout",
     "output_type": "stream",
     "text": [
      "MAU Total user_id    23228.416667\n",
      "dtype: float64\n"
     ]
    }
   ],
   "source": [
    "mau_total = visits_log.groupby(['session_year', 'session_month']).agg({'user_id': 'nunique'}).mean()\n",
    "print('MAU Total',mau_total)"
   ]
  },
  {
   "cell_type": "code",
   "execution_count": 58,
   "metadata": {},
   "outputs": [
    {
     "data": {
      "text/plain": [
       "[Text(0, 0.5, 'Values'), Text(0.5, 0, 'Months'), Text(0.5, 1.0, 'MAU')]"
      ]
     },
     "execution_count": 58,
     "metadata": {},
     "output_type": "execute_result"
    },
    {
     "data": {
      "image/png": "[encoded data removed]",
      "text/plain": [
       "<Figure size 720x576 with 1 Axes>"
      ]
     },
     "metadata": {
      "needs_background": "light"
     },
     "output_type": "display_data"
    }
   ],
   "source": [
    "mau_total_month = visits_log.groupby(['session_year', 'session_month']).agg({'user_id': 'nunique'})\n",
    "mau_total_month.reset_index()\n",
    "plt.figure(figsize=(10,8))\n",
    "sns.histplot(mau_total_month,color='Lime').set(title='MAU', xlabel='Months', ylabel='Values')"
   ]
  },
  {
   "cell_type": "code",
   "execution_count": 59,
   "metadata": {},
   "outputs": [
    {
     "name": "stdout",
     "output_type": "stream",
     "text": [
      "user_id    15.884409\n",
      "dtype: float64\n",
      "user_id    3.90897\n",
      "dtype: float64\n"
     ]
    }
   ],
   "source": [
    "#calculating sticky values\n",
    "\n",
    "sticky_wau = dau_total/wau_total*100\n",
    "print(sticky_wau)\n",
    "sticky_mau = dau_total/mau_total*100\n",
    "print(sticky_mau)"
   ]
  },
  {
   "cell_type": "markdown",
   "metadata": {},
   "source": [
    "Based on the metrics for DAU, WAU and MAU we can conclude that the users are interested in the product,the volume of active users on a daily basis is suffecient, however, by the way how the graphs for MAU and WAU react, it looks like users frequenly change without sticking with the product. It can also be seen by the metrics for \"sticky wau\" and \"sticky mau\". \n",
    "\n",
    "Now it is crucial to consider the nature of the platform. It offers info and tickets to various goings-on in Russian cities. How much people can really \"stick\" with the product in this regard. It is not like, for example, Instagram, where users can be constantly engaged with the platform. In this case, users make purchases or look into making purchases when they plan to have, for example, a night out, and generally speaking, it does not happen every day of the week and does not have continuity."
   ]
  },
  {
   "cell_type": "code",
   "execution_count": 60,
   "metadata": {},
   "outputs": [
    {
     "data": {
      "text/plain": [
       "10.725108143202156"
      ]
     },
     "execution_count": 60,
     "metadata": {},
     "output_type": "execute_result"
    }
   ],
   "source": [
    "#Find the ASL metric (average session length).\n",
    "\n",
    "visits_log['session_duration_sec'] = (visits_log['end_ts'] - visits_log['start_ts']).dt.seconds\n",
    "visits_log['session_duration_sec']\n",
    "visits_log['session_duration_min'] = visits_log['session_duration_sec'] / 60 \n",
    "visits_log['session_duration_min'].mean() #test"
   ]
  },
  {
   "cell_type": "markdown",
   "metadata": {},
   "source": [
    "The average session length is just a bit above 10 minutes which is pretty good, it means that the users are interested in what the service has to offer overall and they dont immediately bounce."
   ]
  },
  {
   "cell_type": "code",
   "execution_count": 94,
   "metadata": {},
   "outputs": [
    {
     "data": {
      "image/png": "[encoded data removed]",
      "text/plain": [
       "<Figure size 842.4x595.44 with 1 Axes>"
      ]
     },
     "metadata": {},
     "output_type": "display_data"
    }
   ],
   "source": [
    "visits_grouped = visits_log.groupby(['session_month', 'device'])[['session_duration_min']].mean().reset_index()\n",
    "visits_grouped\n",
    "\n",
    "plt.title('Monthly Sessions Per Device')\n",
    "\n",
    "sns.set(rc={'figure.figsize':(11.7,8.27)})\n",
    "ax = sns.barplot(x=\"session_month\", y=\"session_duration_min\", hue=\"device\", data=visits_grouped, palette='twilight')\n"
   ]
  },
  {
   "cell_type": "markdown",
   "metadata": {},
   "source": [
    "The users overwhelmingly choose to browse on desktop as opposed to touch. The metric also shows which months are more active and less active. It makes sense that during the summer months the servce is less popular because there is less going on in terms of cultural events."
   ]
  },
  {
   "cell_type": "code",
   "execution_count": 62,
   "metadata": {},
   "outputs": [
    {
     "data": {
      "image/png": "[encoded data removed]",
      "text/plain": [
       "<Figure size 1080x648 with 3 Axes>"
      ]
     },
     "metadata": {},
     "output_type": "display_data"
    }
   ],
   "source": [
    "visits_log['start_ts'] = pd.to_datetime(visits_log['start_ts'])\n",
    "first_activity_date = visits_log.groupby(['user_id'])['start_ts'].min()\n",
    "first_activity_date.name = 'first_activity_date'\n",
    "\n",
    "user_activity = visits_log.join(first_activity_date,on='user_id')\n",
    "user_activity['first_activity_date'] = pd.to_datetime(user_activity['first_activity_date']).dt.normalize()\n",
    "\n",
    "user_activity['start_ts'] = user_activity['start_ts'].astype('datetime64[M]')\n",
    "user_activity['first_activity_month'] = pd.to_datetime(user_activity['first_activity_date'],\\\n",
    "                                                       unit='d') - pd.to_timedelta\\\n",
    "(user_activity['first_activity_date'].\\\n",
    " dt.dayofweek, unit='d')\n",
    "\n",
    "user_activity['cohort_lifetime'] = user_activity['start_ts'] - user_activity['first_activity_month']\n",
    "user_activity['cohort_lifetime'] = user_activity['cohort_lifetime'] / np.timedelta64(1,'M')\n",
    "user_activity['cohort_lifetime'] = user_activity['cohort_lifetime'].astype(int)\n",
    "user_activity.head()\n",
    "\n",
    "cohorts = user_activity.groupby(['first_activity_month','cohort_lifetime']).agg({'user_id':'nunique'}).reset_index()\n",
    "cohorts['first_activity_month'] = cohorts['first_activity_month'].astype('datetime64[M]')\n",
    "\n",
    "\n",
    "initial_users_count = cohorts[cohorts['cohort_lifetime'] == 0][['first_activity_month','user_id']]\n",
    "initial_users_count = initial_users_count.rename(columns={'user_id':'cohort_users'})\n",
    "cohorts = cohorts.merge(initial_users_count,on='first_activity_month')\n",
    "cohorts['retention'] = cohorts['user_id']/cohorts['cohort_users']\n",
    "cohorts.head()\n",
    "\n",
    "\n",
    "cohorts_2017 = cohorts[cohorts['first_activity_month'].dt.year == 2017].reset_index()\n",
    "cohorts_2017.head() \n",
    "\n",
    "retention_pivot_2017 = cohorts_2017.pivot_table(index='first_activity_month',columns='cohort_lifetime',values='retention',aggfunc='sum')\n",
    "\n",
    "cohort_size = retention_pivot_2017.iloc[:,0]\n",
    "retention_matrix = retention_pivot_2017.divide(cohort_size, axis = 0)\n",
    "\n",
    "with sns.axes_style(\"white\"):\n",
    "    fig, ax = plt.subplots(1, 2, figsize=(15, 9), sharey=True, gridspec_kw={'width_ratios': [0.5, 8]})\n",
    "    \n",
    "    def create_color(r, g, b):\n",
    "        return [r/256, g/256, b/256]\n",
    " \n",
    "    def get_custom_color_palette():\n",
    "        return LinearSegmentedColormap.from_list(\"\", ['#6a197d','#ffa931','#e36387'\n",
    " \n",
    "])\n",
    "         #retention matrix\n",
    "    cmap = get_custom_color_palette()    \n",
    "    sns.heatmap(retention_matrix,  \n",
    "                annot=True, \n",
    "                fmt='.1%', \n",
    "                linewidth = 5,\n",
    "                cmap=cmap, \n",
    "                vmin=-0.5, vmax=0.3,\n",
    "                ax=ax[1])\n",
    "    ax[1].set_title('Cohorts:User Retention 2017', fontsize=16)\n",
    "    ax[1].set(xlabel='age',\n",
    "              ylabel='')    "
   ]
  },
  {
   "cell_type": "code",
   "execution_count": 63,
   "metadata": {},
   "outputs": [
    {
     "data": {
      "image/png": "[encoded data removed]",
      "text/plain": [
       "<Figure size 864x576 with 3 Axes>"
      ]
     },
     "metadata": {},
     "output_type": "display_data"
    }
   ],
   "source": [
    "#retention rate for 2018\n",
    "\n",
    "cohorts_2018 = cohorts[cohorts['first_activity_month'].dt.year == 2018].reset_index()\n",
    "cohorts_2018.head()\n",
    "\n",
    "retention_pivot_2018 = cohorts_2018.pivot_table(index='first_activity_month',columns='cohort_lifetime',values='retention',aggfunc='sum')   \n",
    "\n",
    "cohort_size = retention_pivot_2018.iloc[:,0]\n",
    "retention_matrix = retention_pivot_2018.divide(cohort_size, axis = 0)\n",
    "\n",
    "with sns.axes_style(\"white\"):\n",
    "    fig, ax = plt.subplots(1, 2, figsize=(12, 8), sharey=True, gridspec_kw={'width_ratios': [1, 11]})\n",
    "\n",
    "    def create_color(r, g, b):\n",
    "        return [r/256, g/256, b/256]\n",
    " \n",
    "    def get_custom_color_palette():\n",
    "        return LinearSegmentedColormap.from_list(\"\", ['#6a197d','#ffa931','#e36387'\n",
    " \n",
    "])    \n",
    "\n",
    "    # retention matrix\n",
    "    cmap = get_custom_color_palette()   \n",
    "    sns.heatmap(retention_matrix,  \n",
    "                annot=True, \n",
    "                fmt='.1%', \n",
    "                linewidth = 5,\n",
    "                cmap=cmap,\n",
    "                vmin=-0.5, vmax=0.3,\n",
    "                ax=ax[1])\n",
    "    ax[1].set_title('Monthly Cohorts: User Retention', fontsize=16)\n",
    "    ax[1].set(xlabel='# of periods',\n",
    "              ylabel='')"
   ]
  },
  {
   "cell_type": "markdown",
   "metadata": {},
   "source": [
    "### 2. Sales <a name=\"sales\"></a>"
   ]
  },
  {
   "cell_type": "code",
   "execution_count": 64,
   "metadata": {},
   "outputs": [
    {
     "data": {
      "text/html": [
       "<div>\n",
       "<style scoped>\n",
       "    .dataframe tbody tr th:only-of-type {\n",
       "        vertical-align: middle;\n",
       "    }\n",
       "\n",
       "    .dataframe tbody tr th {\n",
       "        vertical-align: top;\n",
       "    }\n",
       "\n",
       "    .dataframe thead th {\n",
       "        text-align: right;\n",
       "    }\n",
       "</style>\n",
       "<table border=\"1\" class=\"dataframe\">\n",
       "  <thead>\n",
       "    <tr style=\"text-align: right;\">\n",
       "      <th></th>\n",
       "      <th>sessions_year</th>\n",
       "      <th>sessions_month</th>\n",
       "      <th>n_sessions</th>\n",
       "      <th>n_users</th>\n",
       "    </tr>\n",
       "  </thead>\n",
       "  <tbody>\n",
       "    <tr>\n",
       "      <th>0</th>\n",
       "      <td>2017</td>\n",
       "      <td>6</td>\n",
       "      <td>16505</td>\n",
       "      <td>13259</td>\n",
       "    </tr>\n",
       "    <tr>\n",
       "      <th>1</th>\n",
       "      <td>2017</td>\n",
       "      <td>7</td>\n",
       "      <td>17828</td>\n",
       "      <td>14183</td>\n",
       "    </tr>\n",
       "    <tr>\n",
       "      <th>2</th>\n",
       "      <td>2017</td>\n",
       "      <td>8</td>\n",
       "      <td>14355</td>\n",
       "      <td>11631</td>\n",
       "    </tr>\n",
       "    <tr>\n",
       "      <th>3</th>\n",
       "      <td>2017</td>\n",
       "      <td>9</td>\n",
       "      <td>23907</td>\n",
       "      <td>18975</td>\n",
       "    </tr>\n",
       "    <tr>\n",
       "      <th>4</th>\n",
       "      <td>2017</td>\n",
       "      <td>10</td>\n",
       "      <td>37903</td>\n",
       "      <td>29692</td>\n",
       "    </tr>\n",
       "    <tr>\n",
       "      <th>5</th>\n",
       "      <td>2017</td>\n",
       "      <td>11</td>\n",
       "      <td>43969</td>\n",
       "      <td>32797</td>\n",
       "    </tr>\n",
       "    <tr>\n",
       "      <th>6</th>\n",
       "      <td>2017</td>\n",
       "      <td>12</td>\n",
       "      <td>41983</td>\n",
       "      <td>31557</td>\n",
       "    </tr>\n",
       "    <tr>\n",
       "      <th>7</th>\n",
       "      <td>2018</td>\n",
       "      <td>1</td>\n",
       "      <td>36939</td>\n",
       "      <td>28716</td>\n",
       "    </tr>\n",
       "    <tr>\n",
       "      <th>8</th>\n",
       "      <td>2018</td>\n",
       "      <td>2</td>\n",
       "      <td>37182</td>\n",
       "      <td>28749</td>\n",
       "    </tr>\n",
       "    <tr>\n",
       "      <th>9</th>\n",
       "      <td>2018</td>\n",
       "      <td>3</td>\n",
       "      <td>35679</td>\n",
       "      <td>27473</td>\n",
       "    </tr>\n",
       "    <tr>\n",
       "      <th>10</th>\n",
       "      <td>2018</td>\n",
       "      <td>4</td>\n",
       "      <td>26515</td>\n",
       "      <td>21008</td>\n",
       "    </tr>\n",
       "    <tr>\n",
       "      <th>11</th>\n",
       "      <td>2018</td>\n",
       "      <td>5</td>\n",
       "      <td>26635</td>\n",
       "      <td>20701</td>\n",
       "    </tr>\n",
       "  </tbody>\n",
       "</table>\n",
       "</div>"
      ],
      "text/plain": [
       "    sessions_year  sessions_month  n_sessions  n_users\n",
       "0            2017               6       16505    13259\n",
       "1            2017               7       17828    14183\n",
       "2            2017               8       14355    11631\n",
       "3            2017               9       23907    18975\n",
       "4            2017              10       37903    29692\n",
       "5            2017              11       43969    32797\n",
       "6            2017              12       41983    31557\n",
       "7            2018               1       36939    28716\n",
       "8            2018               2       37182    28749\n",
       "9            2018               3       35679    27473\n",
       "10           2018               4       26515    21008\n",
       "11           2018               5       26635    20701"
      ]
     },
     "execution_count": 64,
     "metadata": {},
     "output_type": "execute_result"
    }
   ],
   "source": [
    "#calculating the number of sessions per each user\n",
    "\n",
    "sessions_per_user = visits_log.groupby(['session_year', 'session_month']).agg({'user_id': ['count','nunique']})\n",
    "sessions = sessions_per_user.reset_index()\n",
    "sessions.columns = ['sessions_year','sessions_month','n_sessions', 'n_users']\n",
    "sessions"
   ]
  },
  {
   "cell_type": "code",
   "execution_count": 65,
   "metadata": {},
   "outputs": [
    {
     "data": {
      "image/svg+xml": [
       "<svg class=\"main-svg\" xmlns=\"http://www.w3.org/2000/svg\" xmlns:xlink=\"http://www.w3.org/1999/xlink\" width=\"900\" height=\"800\" style=\"\" viewBox=\"0 0 900 800\"><rect x=\"0\" y=\"0\" width=\"900\" height=\"800\" style=\"fill: rgb(255, 255, 255); fill-opacity: 1;\"/><defs id=\"defs-71daa7\"><g class=\"clips\"/><g class=\"gradients\"/></defs><g class=\"bglayer\"/><g class=\"layer-below\"><g class=\"imagelayer\"/><g class=\"shapelayer\"/></g><g class=\"cartesianlayer\"/><g class=\"polarlayer\"/><g class=\"ternarylayer\"/><g class=\"geolayer\"/><g class=\"funnelarealayer\"/><g class=\"pielayer\"><g class=\"trace\" stroke-linejoin=\"round\" style=\"opacity: 1;\"><g class=\"slice\"><path class=\"surface\" d=\"M435,390l0,-330a330,330 0 0 1 229.41288348775686,92.78758698197748Z\" style=\"pointer-events: all; stroke-width: 0; fill: rgb(154, 211, 188); fill-opacity: 1; stroke: rgb(68, 68, 68); stroke-opacity: 1;\"/><g class=\"slicetext\"><text data-notex=\"1\" class=\"slicetext\" transform=\"translate(524.9912143331421,172.00101451888312)\" text-anchor=\"middle\" x=\"0\" y=\"0\" style=\"font-family: 'Open Sans', verdana, arial, sans-serif; font-size: 12px; fill: rgb(68, 68, 68); fill-opacity: 1; white-space: pre;\">12.2%</text></g></g><g class=\"slice\"><path class=\"surface\" d=\"M435,390l-221.0402349619264,-245.03308863901702a330,330 0 0 1 221.0402349619264,-84.96691136098298Z\" style=\"pointer-events: all; stroke-width: 0; fill: rgb(46, 193, 172); fill-opacity: 1; stroke: rgb(68, 68, 68); stroke-opacity: 1;\"/><g class=\"slicetext\"><text data-notex=\"1\" class=\"slicetext\" transform=\"translate(347.8612724102833,167.80981540704732)\" text-anchor=\"middle\" x=\"0\" y=\"0\" style=\"font-family: 'Open Sans', verdana, arial, sans-serif; font-size: 12px; fill: rgb(68, 68, 68); fill-opacity: 1; white-space: pre;\">11.7%</text></g></g><g class=\"slice\"><path class=\"surface\" d=\"M435,390l-325.0059082840348,-57.194051967573955a330,330 0 0 1 103.96567332210839,-187.83903667144307Z\" style=\"pointer-events: all; stroke-width: 0; fill: rgb(253, 207, 223); fill-opacity: 1; stroke: rgb(68, 68, 68); stroke-opacity: 1;\"/><g class=\"slicetext\"><text data-notex=\"1\" class=\"slicetext\" transform=\"translate(217.14154835743005,273.91909724787683)\" text-anchor=\"middle\" x=\"0\" y=\"0\" style=\"font-family: 'Open Sans', verdana, arial, sans-serif; font-size: 12px; fill: rgb(68, 68, 68); fill-opacity: 1; white-space: pre;\">10.5%</text></g></g><g class=\"slice\"><path class=\"surface\" d=\"M435,390l-293.3402075958297,151.16720083283784a330,330 0 0 1 -31.66570068820505,-208.3612528004118Z\" style=\"pointer-events: all; stroke-width: 0; fill: rgb(159, 95, 128); fill-opacity: 1; stroke: rgb(68, 68, 68); stroke-opacity: 1;\"/><g class=\"slicetext\"><text data-notex=\"1\" class=\"slicetext\" transform=\"translate(187.71130575134052,432.0816984703772)\" text-anchor=\"middle\" x=\"0\" y=\"0\" style=\"font-family: 'Open Sans', verdana, arial, sans-serif; font-size: 12px; fill: rgb(255, 255, 255); fill-opacity: 1; white-space: pre;\">10.3%</text></g></g><g class=\"slice\"><path class=\"surface\" d=\"M435,390l-143.2937492334214,297.2657084674069a330,330 0 0 1 -150.04645836240832,-146.09850763456907Z\" style=\"pointer-events: all; stroke-width: 0; fill: rgb(88, 61, 114); fill-opacity: 1; stroke: rgb(68, 68, 68); stroke-opacity: 1;\"/><g class=\"slicetext\"><text data-notex=\"1\" class=\"slicetext\" transform=\"translate(260.2393199655927,573.9831550624565)\" text-anchor=\"middle\" x=\"0\" y=\"0\" style=\"font-family: 'Open Sans', verdana, arial, sans-serif; font-size: 12px; fill: rgb(255, 255, 255); fill-opacity: 1; white-space: pre;\">10.3%</text></g></g><g class=\"slice\"><path class=\"surface\" d=\"M435,390l57.3190493804182,324.983886643823a330,330 0 0 1 -200.6127986138396,-27.718178176416075Z\" style=\"pointer-events: all; stroke-width: 0; fill: rgb(255, 186, 147); fill-opacity: 1; stroke: rgb(68, 68, 68); stroke-opacity: 1;\"/><g class=\"slicetext\"><text data-notex=\"1\" class=\"slicetext\" transform=\"translate(400.4387761584337,644.63995487897)\" text-anchor=\"middle\" x=\"0\" y=\"0\" style=\"font-family: 'Open Sans', verdana, arial, sans-serif; font-size: 12px; fill: rgb(68, 68, 68); fill-opacity: 1; white-space: pre;\">9.93%</text></g></g><g class=\"slice\"><path class=\"surface\" d=\"M435,390l197.1337989529501,264.6474358658664a330,330 0 0 1 -139.8147495725319,60.3364507779566Z\" style=\"pointer-events: all; stroke-width: 0; fill: rgb(190, 220, 250); fill-opacity: 1; stroke: rgb(68, 68, 68); stroke-opacity: 1;\"/><g class=\"slicetext\"><text data-notex=\"1\" class=\"slicetext\" transform=\"translate(541.2417188463087,640.6888149390259)\" text-anchor=\"middle\" x=\"0\" y=\"0\" style=\"font-family: 'Open Sans', verdana, arial, sans-serif; font-size: 12px; fill: rgb(68, 68, 68); fill-opacity: 1; white-space: pre;\">7.41%</text></g></g><g class=\"slice\"><path class=\"surface\" d=\"M435,390l294.660759591116,148.57670327876616a330,330 0 0 1 -97.52696063816592,116.07073258710022Z\" style=\"pointer-events: all; stroke-width: 0; fill: rgb(255, 142, 113); fill-opacity: 1; stroke: rgb(68, 68, 68); stroke-opacity: 1;\"/><g class=\"slicetext\"><text data-notex=\"1\" class=\"slicetext\" transform=\"translate(640.4584833526009,567.1338842883578)\" text-anchor=\"middle\" x=\"0\" y=\"0\" style=\"font-family: 'Open Sans', verdana, arial, sans-serif; font-size: 12px; fill: rgb(68, 68, 68); fill-opacity: 1; white-space: pre;\">7.38%</text></g></g><g class=\"slice\"><path class=\"surface\" d=\"M435,390l329.6027305180266,16.187650696167818a330,330 0 0 1 -34.941970926910585,132.38905258259834Z\" style=\"pointer-events: all; stroke-width: 0; fill: rgb(251, 190, 223); fill-opacity: 1; stroke: rgb(68, 68, 68); stroke-opacity: 1;\"/><g class=\"slicetext\"><text data-notex=\"1\" class=\"slicetext\" transform=\"translate(699.252200426417,464.2451377175705)\" text-anchor=\"middle\" x=\"0\" y=\"0\" style=\"font-family: 'Open Sans', verdana, arial, sans-serif; font-size: 12px; fill: rgb(68, 68, 68); fill-opacity: 1; white-space: pre;\">6.65%</text></g></g><g class=\"slice\"><path class=\"surface\" d=\"M435,390l318.6867333606623,-85.66659780748938a330,330 0 0 1 10.915997157364302,101.8542485036572Z\" style=\"pointer-events: all; stroke-width: 0; fill: rgb(176, 136, 249); fill-opacity: 1; stroke: rgb(68, 68, 68); stroke-opacity: 1;\"/><g class=\"slicetext\"><text data-notex=\"1\" class=\"slicetext\" transform=\"translate(719.0361877021396,364.05906834427407)\" text-anchor=\"middle\" x=\"0\" y=\"0\" style=\"font-family: 'Open Sans', verdana, arial, sans-serif; font-size: 12px; fill: rgb(68, 68, 68); fill-opacity: 1; white-space: pre;\">4.96%</text></g></g><g class=\"slice\"><path class=\"surface\" d=\"M435,390l281.13435896754896,-172.81050954124674a330,330 0 0 1 37.552374393113325,87.14391173375736Z\" style=\"pointer-events: all; stroke-width: 0; fill: rgb(152, 172, 248); fill-opacity: 1; stroke: rgb(68, 68, 68); stroke-opacity: 1;\"/><g class=\"slicetext\"><text data-notex=\"1\" class=\"slicetext\" transform=\"translate(699.9642468030697,280.3206339515998)\" text-anchor=\"middle\" x=\"0\" y=\"0\" style=\"font-family: 'Open Sans', verdana, arial, sans-serif; font-size: 12px; fill: rgb(68, 68, 68); fill-opacity: 1; white-space: pre;\">4.59%</text></g></g><g class=\"slice\"><path class=\"surface\" d=\"M435,390l229.41288348775686,-237.2124130180225a330,330 0 0 1 51.721475479792105,64.40190347677574Z\" style=\"pointer-events: all; stroke-width: 0; fill: rgb(252, 163, 204); fill-opacity: 1; stroke: rgb(68, 68, 68); stroke-opacity: 1;\"/><g class=\"slicetext\"><text data-notex=\"1\" class=\"slicetext\" transform=\"translate(663.6773422269081,210.84813708513715)\" text-anchor=\"middle\" x=\"0\" y=\"0\" style=\"font-family: 'Open Sans', verdana, arial, sans-serif; font-size: 12px; fill: rgb(68, 68, 68); fill-opacity: 1; white-space: pre;\">3.99%</text></g></g></g></g><g class=\"treemaplayer\"/><g class=\"sunburstlayer\"/><g class=\"glimages\"/><defs id=\"topdefs-71daa7\"><g class=\"clips\"/><clipPath id=\"legend71daa7\"><rect width=\"84\" height=\"238\" x=\"0\" y=\"0\"/></clipPath></defs><g class=\"layer-above\"><g class=\"imagelayer\"/><g class=\"shapelayer\"/></g><g class=\"infolayer\"><g class=\"legend\" pointer-events=\"all\" transform=\"translate(804.2, 60)\"><rect class=\"bg\" shape-rendering=\"crispEdges\" style=\"stroke: rgb(68, 68, 68); stroke-opacity: 1; fill: rgb(255, 255, 255); fill-opacity: 1; stroke-width: 0px;\" width=\"84\" height=\"238\" x=\"0\" y=\"0\"/><g class=\"scrollbox\" transform=\"translate(0, 0)\" clip-path=\"url('#legend71daa7')\"><g class=\"groups\"><g class=\"traces\" transform=\"translate(0, 14.5)\" style=\"opacity: 1;\"><text class=\"legendtext user-select-none\" text-anchor=\"start\" x=\"40\" y=\"4.680000000000001\" style=\"font-family: 'Open Sans', verdana, arial, sans-serif; font-size: 12px; fill: rgb(42, 63, 95); fill-opacity: 1; white-space: pre;\">43969</text><g class=\"layers\" style=\"opacity: 1;\"><g class=\"legendfill\"/><g class=\"legendlines\"/><g class=\"legendsymbols\"><g class=\"legendpoints\"><path class=\"legendpie\" d=\"M6,6H-6V-6H6Z\" transform=\"translate(20,0)\" style=\"stroke-width: 0; fill: rgb(154, 211, 188); fill-opacity: 1; stroke: rgb(68, 68, 68); stroke-opacity: 1;\"/></g></g></g><rect class=\"legendtoggle\" pointer-events=\"all\" x=\"0\" y=\"-9.5\" width=\"78.15625\" height=\"19\" style=\"cursor: pointer; fill: rgb(0, 0, 0); fill-opacity: 0;\"/></g><g class=\"traces\" transform=\"translate(0, 33.5)\" style=\"opacity: 1;\"><text class=\"legendtext user-select-none\" text-anchor=\"start\" x=\"40\" y=\"4.680000000000001\" style=\"font-family: 'Open Sans', verdana, arial, sans-serif; font-size: 12px; fill: rgb(42, 63, 95); fill-opacity: 1; white-space: pre;\">41983</text><g class=\"layers\" style=\"opacity: 1;\"><g class=\"legendfill\"/><g class=\"legendlines\"/><g class=\"legendsymbols\"><g class=\"legendpoints\"><path class=\"legendpie\" d=\"M6,6H-6V-6H6Z\" transform=\"translate(20,0)\" style=\"stroke-width: 0; fill: rgb(46, 193, 172); fill-opacity: 1; stroke: rgb(68, 68, 68); stroke-opacity: 1;\"/></g></g></g><rect class=\"legendtoggle\" pointer-events=\"all\" x=\"0\" y=\"-9.5\" width=\"78.15625\" height=\"19\" style=\"cursor: pointer; fill: rgb(0, 0, 0); fill-opacity: 0;\"/></g><g class=\"traces\" transform=\"translate(0, 52.5)\" style=\"opacity: 1;\"><text class=\"legendtext user-select-none\" text-anchor=\"start\" x=\"40\" y=\"4.680000000000001\" style=\"font-family: 'Open Sans', verdana, arial, sans-serif; font-size: 12px; fill: rgb(42, 63, 95); fill-opacity: 1; white-space: pre;\">37903</text><g class=\"layers\" style=\"opacity: 1;\"><g class=\"legendfill\"/><g class=\"legendlines\"/><g class=\"legendsymbols\"><g class=\"legendpoints\"><path class=\"legendpie\" d=\"M6,6H-6V-6H6Z\" transform=\"translate(20,0)\" style=\"stroke-width: 0; fill: rgb(253, 207, 223); fill-opacity: 1; stroke: rgb(68, 68, 68); stroke-opacity: 1;\"/></g></g></g><rect class=\"legendtoggle\" pointer-events=\"all\" x=\"0\" y=\"-9.5\" width=\"78.15625\" height=\"19\" style=\"cursor: pointer; fill: rgb(0, 0, 0); fill-opacity: 0;\"/></g><g class=\"traces\" transform=\"translate(0, 71.5)\" style=\"opacity: 1;\"><text class=\"legendtext user-select-none\" text-anchor=\"start\" x=\"40\" y=\"4.680000000000001\" style=\"font-family: 'Open Sans', verdana, arial, sans-serif; font-size: 12px; fill: rgb(42, 63, 95); fill-opacity: 1; white-space: pre;\">37182</text><g class=\"layers\" style=\"opacity: 1;\"><g class=\"legendfill\"/><g class=\"legendlines\"/><g class=\"legendsymbols\"><g class=\"legendpoints\"><path class=\"legendpie\" d=\"M6,6H-6V-6H6Z\" transform=\"translate(20,0)\" style=\"stroke-width: 0; fill: rgb(159, 95, 128); fill-opacity: 1; stroke: rgb(68, 68, 68); stroke-opacity: 1;\"/></g></g></g><rect class=\"legendtoggle\" pointer-events=\"all\" x=\"0\" y=\"-9.5\" width=\"78.15625\" height=\"19\" style=\"cursor: pointer; fill: rgb(0, 0, 0); fill-opacity: 0;\"/></g><g class=\"traces\" transform=\"translate(0, 90.5)\" style=\"opacity: 1;\"><text class=\"legendtext user-select-none\" text-anchor=\"start\" x=\"40\" y=\"4.680000000000001\" style=\"font-family: 'Open Sans', verdana, arial, sans-serif; font-size: 12px; fill: rgb(42, 63, 95); fill-opacity: 1; white-space: pre;\">36939</text><g class=\"layers\" style=\"opacity: 1;\"><g class=\"legendfill\"/><g class=\"legendlines\"/><g class=\"legendsymbols\"><g class=\"legendpoints\"><path class=\"legendpie\" d=\"M6,6H-6V-6H6Z\" transform=\"translate(20,0)\" style=\"stroke-width: 0; fill: rgb(88, 61, 114); fill-opacity: 1; stroke: rgb(68, 68, 68); stroke-opacity: 1;\"/></g></g></g><rect class=\"legendtoggle\" pointer-events=\"all\" x=\"0\" y=\"-9.5\" width=\"78.15625\" height=\"19\" style=\"cursor: pointer; fill: rgb(0, 0, 0); fill-opacity: 0;\"/></g><g class=\"traces\" transform=\"translate(0, 109.5)\" style=\"opacity: 1;\"><text class=\"legendtext user-select-none\" text-anchor=\"start\" x=\"40\" y=\"4.680000000000001\" style=\"font-family: 'Open Sans', verdana, arial, sans-serif; font-size: 12px; fill: rgb(42, 63, 95); fill-opacity: 1; white-space: pre;\">35679</text><g class=\"layers\" style=\"opacity: 1;\"><g class=\"legendfill\"/><g class=\"legendlines\"/><g class=\"legendsymbols\"><g class=\"legendpoints\"><path class=\"legendpie\" d=\"M6,6H-6V-6H6Z\" transform=\"translate(20,0)\" style=\"stroke-width: 0; fill: rgb(255, 186, 147); fill-opacity: 1; stroke: rgb(68, 68, 68); stroke-opacity: 1;\"/></g></g></g><rect class=\"legendtoggle\" pointer-events=\"all\" x=\"0\" y=\"-9.5\" width=\"78.15625\" height=\"19\" style=\"cursor: pointer; fill: rgb(0, 0, 0); fill-opacity: 0;\"/></g><g class=\"traces\" transform=\"translate(0, 128.5)\" style=\"opacity: 1;\"><text class=\"legendtext user-select-none\" text-anchor=\"start\" x=\"40\" y=\"4.680000000000001\" style=\"font-family: 'Open Sans', verdana, arial, sans-serif; font-size: 12px; fill: rgb(42, 63, 95); fill-opacity: 1; white-space: pre;\">26635</text><g class=\"layers\" style=\"opacity: 1;\"><g class=\"legendfill\"/><g class=\"legendlines\"/><g class=\"legendsymbols\"><g class=\"legendpoints\"><path class=\"legendpie\" d=\"M6,6H-6V-6H6Z\" transform=\"translate(20,0)\" style=\"stroke-width: 0; fill: rgb(190, 220, 250); fill-opacity: 1; stroke: rgb(68, 68, 68); stroke-opacity: 1;\"/></g></g></g><rect class=\"legendtoggle\" pointer-events=\"all\" x=\"0\" y=\"-9.5\" width=\"78.15625\" height=\"19\" style=\"cursor: pointer; fill: rgb(0, 0, 0); fill-opacity: 0;\"/></g><g class=\"traces\" transform=\"translate(0, 147.5)\" style=\"opacity: 1;\"><text class=\"legendtext user-select-none\" text-anchor=\"start\" x=\"40\" y=\"4.680000000000001\" style=\"font-family: 'Open Sans', verdana, arial, sans-serif; font-size: 12px; fill: rgb(42, 63, 95); fill-opacity: 1; white-space: pre;\">26515</text><g class=\"layers\" style=\"opacity: 1;\"><g class=\"legendfill\"/><g class=\"legendlines\"/><g class=\"legendsymbols\"><g class=\"legendpoints\"><path class=\"legendpie\" d=\"M6,6H-6V-6H6Z\" transform=\"translate(20,0)\" style=\"stroke-width: 0; fill: rgb(255, 142, 113); fill-opacity: 1; stroke: rgb(68, 68, 68); stroke-opacity: 1;\"/></g></g></g><rect class=\"legendtoggle\" pointer-events=\"all\" x=\"0\" y=\"-9.5\" width=\"78.15625\" height=\"19\" style=\"cursor: pointer; fill: rgb(0, 0, 0); fill-opacity: 0;\"/></g><g class=\"traces\" transform=\"translate(0, 166.5)\" style=\"opacity: 1;\"><text class=\"legendtext user-select-none\" text-anchor=\"start\" x=\"40\" y=\"4.680000000000001\" style=\"font-family: 'Open Sans', verdana, arial, sans-serif; font-size: 12px; fill: rgb(42, 63, 95); fill-opacity: 1; white-space: pre;\">23907</text><g class=\"layers\" style=\"opacity: 1;\"><g class=\"legendfill\"/><g class=\"legendlines\"/><g class=\"legendsymbols\"><g class=\"legendpoints\"><path class=\"legendpie\" d=\"M6,6H-6V-6H6Z\" transform=\"translate(20,0)\" style=\"stroke-width: 0; fill: rgb(251, 190, 223); fill-opacity: 1; stroke: rgb(68, 68, 68); stroke-opacity: 1;\"/></g></g></g><rect class=\"legendtoggle\" pointer-events=\"all\" x=\"0\" y=\"-9.5\" width=\"78.15625\" height=\"19\" style=\"cursor: pointer; fill: rgb(0, 0, 0); fill-opacity: 0;\"/></g><g class=\"traces\" transform=\"translate(0, 185.5)\" style=\"opacity: 1;\"><text class=\"legendtext user-select-none\" text-anchor=\"start\" x=\"40\" y=\"4.680000000000001\" style=\"font-family: 'Open Sans', verdana, arial, sans-serif; font-size: 12px; fill: rgb(42, 63, 95); fill-opacity: 1; white-space: pre;\">17828</text><g class=\"layers\" style=\"opacity: 1;\"><g class=\"legendfill\"/><g class=\"legendlines\"/><g class=\"legendsymbols\"><g class=\"legendpoints\"><path class=\"legendpie\" d=\"M6,6H-6V-6H6Z\" transform=\"translate(20,0)\" style=\"stroke-width: 0; fill: rgb(176, 136, 249); fill-opacity: 1; stroke: rgb(68, 68, 68); stroke-opacity: 1;\"/></g></g></g><rect class=\"legendtoggle\" pointer-events=\"all\" x=\"0\" y=\"-9.5\" width=\"78.15625\" height=\"19\" style=\"cursor: pointer; fill: rgb(0, 0, 0); fill-opacity: 0;\"/></g><g class=\"traces\" transform=\"translate(0, 204.5)\" style=\"opacity: 1;\"><text class=\"legendtext user-select-none\" text-anchor=\"start\" x=\"40\" y=\"4.680000000000001\" style=\"font-family: 'Open Sans', verdana, arial, sans-serif; font-size: 12px; fill: rgb(42, 63, 95); fill-opacity: 1; white-space: pre;\">16505</text><g class=\"layers\" style=\"opacity: 1;\"><g class=\"legendfill\"/><g class=\"legendlines\"/><g class=\"legendsymbols\"><g class=\"legendpoints\"><path class=\"legendpie\" d=\"M6,6H-6V-6H6Z\" transform=\"translate(20,0)\" style=\"stroke-width: 0; fill: rgb(152, 172, 248); fill-opacity: 1; stroke: rgb(68, 68, 68); stroke-opacity: 1;\"/></g></g></g><rect class=\"legendtoggle\" pointer-events=\"all\" x=\"0\" y=\"-9.5\" width=\"78.15625\" height=\"19\" style=\"cursor: pointer; fill: rgb(0, 0, 0); fill-opacity: 0;\"/></g><g class=\"traces\" transform=\"translate(0, 223.5)\" style=\"opacity: 1;\"><text class=\"legendtext user-select-none\" text-anchor=\"start\" x=\"40\" y=\"4.680000000000001\" style=\"font-family: 'Open Sans', verdana, arial, sans-serif; font-size: 12px; fill: rgb(42, 63, 95); fill-opacity: 1; white-space: pre;\">14355</text><g class=\"layers\" style=\"opacity: 1;\"><g class=\"legendfill\"/><g class=\"legendlines\"/><g class=\"legendsymbols\"><g class=\"legendpoints\"><path class=\"legendpie\" d=\"M6,6H-6V-6H6Z\" transform=\"translate(20,0)\" style=\"stroke-width: 0; fill: rgb(252, 163, 204); fill-opacity: 1; stroke: rgb(68, 68, 68); stroke-opacity: 1;\"/></g></g></g><rect class=\"legendtoggle\" pointer-events=\"all\" x=\"0\" y=\"-9.5\" width=\"78.15625\" height=\"19\" style=\"cursor: pointer; fill: rgb(0, 0, 0); fill-opacity: 0;\"/></g></g></g><rect class=\"scrollbar\" rx=\"20\" ry=\"3\" width=\"0\" height=\"0\" style=\"fill: rgb(128, 139, 164); fill-opacity: 1;\" x=\"0\" y=\"0\"/></g><g class=\"g-gtitle\"/></g></svg>"
      ]
     },
     "metadata": {},
     "output_type": "display_data"
    }
   ],
   "source": [
    "fig1 = px.pie(sessions, values='n_sessions', names='n_sessions', color='sessions_month',\n",
    "color_discrete_map={12:'#2ec1ac',\n",
    "1:'#583d72', 2:'#9f5f80', 3:'#ffba93', 4:'#ff8e71',5:'#bedcfa',\n",
    "6:'#98acf8', 7:'#b088f9', 8:'#fca3cc', 9:'#fbbedf', 10:'#fdcfdf',\n",
    "                   11:'#9ad3bc'})\n",
    "fig1.show(renderer=\"svg\",height=800,width=900)"
   ]
  },
  {
   "cell_type": "code",
   "execution_count": 66,
   "metadata": {},
   "outputs": [
    {
     "data": {
      "image/svg+xml": [
       "<svg class=\"main-svg\" xmlns=\"http://www.w3.org/2000/svg\" xmlns:xlink=\"http://www.w3.org/1999/xlink\" width=\"900\" height=\"800\" style=\"\" viewBox=\"0 0 900 800\"><rect x=\"0\" y=\"0\" width=\"900\" height=\"800\" style=\"fill: rgb(255, 255, 255); fill-opacity: 1;\"/><defs id=\"defs-c86a44\"><g class=\"clips\"/><g class=\"gradients\"/></defs><g class=\"bglayer\"/><g class=\"layer-below\"><g class=\"imagelayer\"/><g class=\"shapelayer\"/></g><g class=\"cartesianlayer\"/><g class=\"polarlayer\"/><g class=\"ternarylayer\"/><g class=\"geolayer\"/><g class=\"funnelarealayer\"/><g class=\"pielayer\"><g class=\"trace\" stroke-linejoin=\"round\" style=\"opacity: 1;\"><g class=\"slice\"><path class=\"surface\" d=\"M435,390l0,-330a330,330 0 0 1 222.34122701595984,86.14680898327902Z\" style=\"pointer-events: all; stroke-width: 0; fill: rgb(78, 160, 174); fill-opacity: 1; stroke: rgb(68, 68, 68); stroke-opacity: 1;\"/><g class=\"slicetext\"><text data-notex=\"1\" class=\"slicetext\" transform=\"translate(522.5816496815282,168.45551055114973)\" text-anchor=\"middle\" x=\"0\" y=\"0\" style=\"font-family: 'Open Sans', verdana, arial, sans-serif; font-size: 12px; fill: rgb(68, 68, 68); fill-opacity: 1; white-space: pre;\">11.8%</text></g></g><g class=\"slice\"><path class=\"surface\" d=\"M435,390l-215.43927273168853,-249.9718379434794a330,330 0 0 1 215.43927273168853,-80.02816205652061Z\" style=\"pointer-events: all; stroke-width: 0; fill: rgb(252, 248, 118); fill-opacity: 1; stroke: rgb(68, 68, 68); stroke-opacity: 1;\"/><g class=\"slicetext\"><text data-notex=\"1\" class=\"slicetext\" transform=\"translate(349.76779424476985,165.05121660477667)\" text-anchor=\"middle\" x=\"0\" y=\"0\" style=\"font-family: 'Open Sans', verdana, arial, sans-serif; font-size: 12px; fill: rgb(68, 68, 68); fill-opacity: 1; white-space: pre;\">11.3%</text></g></g><g class=\"slice\"><path class=\"surface\" d=\"M435,390l-324.0511680421437,-62.37660210786069a330,330 0 0 1 108.61189531045514,-187.5952358356187Z\" style=\"pointer-events: all; stroke-width: 0; fill: rgb(59, 46, 90); fill-opacity: 1; stroke: rgb(68, 68, 68); stroke-opacity: 1;\"/><g class=\"slicetext\"><text data-notex=\"1\" class=\"slicetext\" transform=\"translate(220.01955794557298,270.03290912637647)\" text-anchor=\"middle\" x=\"0\" y=\"0\" style=\"font-family: 'Open Sans', verdana, arial, sans-serif; font-size: 12px; fill: rgb(255, 255, 255); fill-opacity: 1; white-space: pre;\">10.7%</text></g></g><g class=\"slice\"><path class=\"surface\" d=\"M435,390l-296.0078509143054,145.87443983472357a330,330 0 0 1 -28.043317127838293,-208.25104194258427Z\" style=\"pointer-events: all; stroke-width: 0; fill: rgb(139, 205, 205); fill-opacity: 1; stroke: rgb(68, 68, 68); stroke-opacity: 1;\"/><g class=\"slicetext\"><text data-notex=\"1\" class=\"slicetext\" transform=\"translate(186.93186596752935,427.9051310720532)\" text-anchor=\"middle\" x=\"0\" y=\"0\" style=\"font-family: 'Open Sans', verdana, arial, sans-serif; font-size: 12px; fill: rgb(68, 68, 68); fill-opacity: 1; white-space: pre;\">10.3%</text></g></g><g class=\"slice\"><path class=\"surface\" d=\"M435,390l-148.16367612820065,294.86865733098466a330,330 0 0 1 -147.84417478610473,-148.9942174962611Z\" style=\"pointer-events: all; stroke-width: 0; fill: rgb(206, 227, 151); fill-opacity: 1; stroke: rgb(68, 68, 68); stroke-opacity: 1;\"/><g class=\"slicetext\"><text data-notex=\"1\" class=\"slicetext\" transform=\"translate(257.2741431408249,570.8540430430294)\" text-anchor=\"middle\" x=\"0\" y=\"0\" style=\"font-family: 'Open Sans', verdana, arial, sans-serif; font-size: 12px; fill: rgb(68, 68, 68); fill-opacity: 1; white-space: pre;\">10.3%</text></g></g><g class=\"slice\"><path class=\"surface\" d=\"M435,390l50.50613755338711,326.1121433946279a330,330 0 0 1 -198.66981368158775,-31.243486063643218Z\" style=\"pointer-events: all; stroke-width: 0; fill: rgb(55, 151, 164); fill-opacity: 1; stroke: rgb(68, 68, 68); stroke-opacity: 1;\"/><g class=\"slicetext\"><text data-notex=\"1\" class=\"slicetext\" transform=\"translate(395.70647707758525,644.3580619969093)\" text-anchor=\"middle\" x=\"0\" y=\"0\" style=\"font-family: 'Open Sans', verdana, arial, sans-serif; font-size: 12px; fill: rgb(255, 255, 255); fill-opacity: 1; white-space: pre;\">9.86%</text></g></g><g class=\"slice\"><path class=\"surface\" d=\"M435,390l193.67052037376266,267.1923081567955a330,330 0 0 1 -143.16438282037555,58.91983523783239Z\" style=\"pointer-events: all; stroke-width: 0; fill: rgb(250, 127, 114); fill-opacity: 1; stroke: rgb(68, 68, 68); stroke-opacity: 1;\"/><g class=\"slicetext\"><text data-notex=\"1\" class=\"slicetext\" transform=\"translate(536.7298465903827,641.68485112416)\" text-anchor=\"middle\" x=\"0\" y=\"0\" style=\"font-family: 'Open Sans', verdana, arial, sans-serif; font-size: 12px; fill: rgb(68, 68, 68); fill-opacity: 1; white-space: pre;\">7.54%</text></g></g><g class=\"slice\"><path class=\"surface\" d=\"M435,390l293.16896558976737,151.49903503001525a330,330 0 0 1 -99.49844521600471,115.69327312678024Z\" style=\"pointer-events: all; stroke-width: 0; fill: rgb(245, 162, 93); fill-opacity: 1; stroke: rgb(68, 68, 68); stroke-opacity: 1;\"/><g class=\"slicetext\"><text data-notex=\"1\" class=\"slicetext\" transform=\"translate(638.2148877159077,569.2687209983295)\" text-anchor=\"middle\" x=\"0\" y=\"0\" style=\"font-family: 'Open Sans', verdana, arial, sans-serif; font-size: 12px; fill: rgb(68, 68, 68); fill-opacity: 1; white-space: pre;\">7.43%</text></g></g><g class=\"slice\"><path class=\"surface\" d=\"M435,390l329.59991000245896,16.244978497091957a330,330 0 0 1 -36.43094441269159,135.2540565329233Z\" style=\"pointer-events: all; stroke-width: 0; fill: rgb(57, 73, 137); fill-opacity: 1; stroke: rgb(68, 68, 68); stroke-opacity: 1;\"/><g class=\"slicetext\"><text data-notex=\"1\" class=\"slicetext\" transform=\"translate(697.8564034846748,465.3008858983036)\" text-anchor=\"middle\" x=\"0\" y=\"0\" style=\"font-family: 'Open Sans', verdana, arial, sans-serif; font-size: 12px; fill: rgb(255, 255, 255); fill-opacity: 1; white-space: pre;\">6.81%</text></g></g><g class=\"slice\"><path class=\"surface\" d=\"M435,390l318.0042084731032,-88.16645276631664a330,330 0 0 1 11.595701529355779,104.41143126340859Z\" style=\"pointer-events: all; stroke-width: 0; fill: rgb(243, 186, 214); fill-opacity: 1; stroke: rgb(68, 68, 68); stroke-opacity: 1;\"/><g class=\"slicetext\"><text data-notex=\"1\" class=\"slicetext\" transform=\"translate(717.9464677214522,363.0765940684573)\" text-anchor=\"middle\" x=\"0\" y=\"0\" style=\"font-family: 'Open Sans', verdana, arial, sans-serif; font-size: 12px; fill: rgb(68, 68, 68); fill-opacity: 1; white-space: pre;\">5.09%</text></g></g><g class=\"slice\"><path class=\"surface\" d=\"M435,390l277.94633686094375,-177.892759339954a330,330 0 0 1 40.05787161215943,89.72630657363737Z\" style=\"pointer-events: all; stroke-width: 0; fill: rgb(234, 134, 182); fill-opacity: 1; stroke: rgb(68, 68, 68); stroke-opacity: 1;\"/><g class=\"slicetext\"><text data-notex=\"1\" class=\"slicetext\" transform=\"translate(697.2842443315551,277.4044793379177)\" text-anchor=\"middle\" x=\"0\" y=\"0\" style=\"font-family: 'Open Sans', verdana, arial, sans-serif; font-size: 12px; fill: rgb(68, 68, 68); fill-opacity: 1; white-space: pre;\">4.76%</text></g></g><g class=\"slice\"><path class=\"surface\" d=\"M435,390l222.34122701596004,-243.85319101672076a330,330 0 0 1 55.6051098449837,65.96043167676675Z\" style=\"pointer-events: all; stroke-width: 0; fill: rgb(163, 221, 203); fill-opacity: 1; stroke: rgb(68, 68, 68); stroke-opacity: 1;\"/><g class=\"slicetext\"><text data-notex=\"1\" class=\"slicetext\" transform=\"translate(658.1409472522512,206.3906052089177)\" text-anchor=\"middle\" x=\"0\" y=\"0\" style=\"font-family: 'Open Sans', verdana, arial, sans-serif; font-size: 12px; fill: rgb(68, 68, 68); fill-opacity: 1; white-space: pre;\">4.17%</text></g></g></g></g><g class=\"treemaplayer\"/><g class=\"sunburstlayer\"/><g class=\"glimages\"/><defs id=\"topdefs-c86a44\"><g class=\"clips\"/><clipPath id=\"legendc86a44\"><rect width=\"84\" height=\"238\" x=\"0\" y=\"0\"/></clipPath></defs><g class=\"layer-above\"><g class=\"imagelayer\"/><g class=\"shapelayer\"/></g><g class=\"infolayer\"><g class=\"legend\" pointer-events=\"all\" transform=\"translate(804.2, 60)\"><rect class=\"bg\" shape-rendering=\"crispEdges\" style=\"stroke: rgb(68, 68, 68); stroke-opacity: 1; fill: rgb(255, 255, 255); fill-opacity: 1; stroke-width: 0px;\" width=\"84\" height=\"238\" x=\"0\" y=\"0\"/><g class=\"scrollbox\" transform=\"translate(0, 0)\" clip-path=\"url('#legendc86a44')\"><g class=\"groups\"><g class=\"traces\" transform=\"translate(0, 14.5)\" style=\"opacity: 1;\"><text class=\"legendtext user-select-none\" text-anchor=\"start\" x=\"40\" y=\"4.680000000000001\" style=\"font-family: 'Open Sans', verdana, arial, sans-serif; font-size: 12px; fill: rgb(42, 63, 95); fill-opacity: 1; white-space: pre;\">32797</text><g class=\"layers\" style=\"opacity: 1;\"><g class=\"legendfill\"/><g class=\"legendlines\"/><g class=\"legendsymbols\"><g class=\"legendpoints\"><path class=\"legendpie\" d=\"M6,6H-6V-6H6Z\" transform=\"translate(20,0)\" style=\"stroke-width: 0; fill: rgb(78, 160, 174); fill-opacity: 1; stroke: rgb(68, 68, 68); stroke-opacity: 1;\"/></g></g></g><rect class=\"legendtoggle\" pointer-events=\"all\" x=\"0\" y=\"-9.5\" width=\"78.15625\" height=\"19\" style=\"cursor: pointer; fill: rgb(0, 0, 0); fill-opacity: 0;\"/></g><g class=\"traces\" transform=\"translate(0, 33.5)\" style=\"opacity: 1;\"><text class=\"legendtext user-select-none\" text-anchor=\"start\" x=\"40\" y=\"4.680000000000001\" style=\"font-family: 'Open Sans', verdana, arial, sans-serif; font-size: 12px; fill: rgb(42, 63, 95); fill-opacity: 1; white-space: pre;\">31557</text><g class=\"layers\" style=\"opacity: 1;\"><g class=\"legendfill\"/><g class=\"legendlines\"/><g class=\"legendsymbols\"><g class=\"legendpoints\"><path class=\"legendpie\" d=\"M6,6H-6V-6H6Z\" transform=\"translate(20,0)\" style=\"stroke-width: 0; fill: rgb(252, 248, 118); fill-opacity: 1; stroke: rgb(68, 68, 68); stroke-opacity: 1;\"/></g></g></g><rect class=\"legendtoggle\" pointer-events=\"all\" x=\"0\" y=\"-9.5\" width=\"78.15625\" height=\"19\" style=\"cursor: pointer; fill: rgb(0, 0, 0); fill-opacity: 0;\"/></g><g class=\"traces\" transform=\"translate(0, 52.5)\" style=\"opacity: 1;\"><text class=\"legendtext user-select-none\" text-anchor=\"start\" x=\"40\" y=\"4.680000000000001\" style=\"font-family: 'Open Sans', verdana, arial, sans-serif; font-size: 12px; fill: rgb(42, 63, 95); fill-opacity: 1; white-space: pre;\">29692</text><g class=\"layers\" style=\"opacity: 1;\"><g class=\"legendfill\"/><g class=\"legendlines\"/><g class=\"legendsymbols\"><g class=\"legendpoints\"><path class=\"legendpie\" d=\"M6,6H-6V-6H6Z\" transform=\"translate(20,0)\" style=\"stroke-width: 0; fill: rgb(59, 46, 90); fill-opacity: 1; stroke: rgb(68, 68, 68); stroke-opacity: 1;\"/></g></g></g><rect class=\"legendtoggle\" pointer-events=\"all\" x=\"0\" y=\"-9.5\" width=\"78.15625\" height=\"19\" style=\"cursor: pointer; fill: rgb(0, 0, 0); fill-opacity: 0;\"/></g><g class=\"traces\" transform=\"translate(0, 71.5)\" style=\"opacity: 1;\"><text class=\"legendtext user-select-none\" text-anchor=\"start\" x=\"40\" y=\"4.680000000000001\" style=\"font-family: 'Open Sans', verdana, arial, sans-serif; font-size: 12px; fill: rgb(42, 63, 95); fill-opacity: 1; white-space: pre;\">28749</text><g class=\"layers\" style=\"opacity: 1;\"><g class=\"legendfill\"/><g class=\"legendlines\"/><g class=\"legendsymbols\"><g class=\"legendpoints\"><path class=\"legendpie\" d=\"M6,6H-6V-6H6Z\" transform=\"translate(20,0)\" style=\"stroke-width: 0; fill: rgb(139, 205, 205); fill-opacity: 1; stroke: rgb(68, 68, 68); stroke-opacity: 1;\"/></g></g></g><rect class=\"legendtoggle\" pointer-events=\"all\" x=\"0\" y=\"-9.5\" width=\"78.15625\" height=\"19\" style=\"cursor: pointer; fill: rgb(0, 0, 0); fill-opacity: 0;\"/></g><g class=\"traces\" transform=\"translate(0, 90.5)\" style=\"opacity: 1;\"><text class=\"legendtext user-select-none\" text-anchor=\"start\" x=\"40\" y=\"4.680000000000001\" style=\"font-family: 'Open Sans', verdana, arial, sans-serif; font-size: 12px; fill: rgb(42, 63, 95); fill-opacity: 1; white-space: pre;\">28716</text><g class=\"layers\" style=\"opacity: 1;\"><g class=\"legendfill\"/><g class=\"legendlines\"/><g class=\"legendsymbols\"><g class=\"legendpoints\"><path class=\"legendpie\" d=\"M6,6H-6V-6H6Z\" transform=\"translate(20,0)\" style=\"stroke-width: 0; fill: rgb(206, 227, 151); fill-opacity: 1; stroke: rgb(68, 68, 68); stroke-opacity: 1;\"/></g></g></g><rect class=\"legendtoggle\" pointer-events=\"all\" x=\"0\" y=\"-9.5\" width=\"78.15625\" height=\"19\" style=\"cursor: pointer; fill: rgb(0, 0, 0); fill-opacity: 0;\"/></g><g class=\"traces\" transform=\"translate(0, 109.5)\" style=\"opacity: 1;\"><text class=\"legendtext user-select-none\" text-anchor=\"start\" x=\"40\" y=\"4.680000000000001\" style=\"font-family: 'Open Sans', verdana, arial, sans-serif; font-size: 12px; fill: rgb(42, 63, 95); fill-opacity: 1; white-space: pre;\">27473</text><g class=\"layers\" style=\"opacity: 1;\"><g class=\"legendfill\"/><g class=\"legendlines\"/><g class=\"legendsymbols\"><g class=\"legendpoints\"><path class=\"legendpie\" d=\"M6,6H-6V-6H6Z\" transform=\"translate(20,0)\" style=\"stroke-width: 0; fill: rgb(55, 151, 164); fill-opacity: 1; stroke: rgb(68, 68, 68); stroke-opacity: 1;\"/></g></g></g><rect class=\"legendtoggle\" pointer-events=\"all\" x=\"0\" y=\"-9.5\" width=\"78.15625\" height=\"19\" style=\"cursor: pointer; fill: rgb(0, 0, 0); fill-opacity: 0;\"/></g><g class=\"traces\" transform=\"translate(0, 128.5)\" style=\"opacity: 1;\"><text class=\"legendtext user-select-none\" text-anchor=\"start\" x=\"40\" y=\"4.680000000000001\" style=\"font-family: 'Open Sans', verdana, arial, sans-serif; font-size: 12px; fill: rgb(42, 63, 95); fill-opacity: 1; white-space: pre;\">21008</text><g class=\"layers\" style=\"opacity: 1;\"><g class=\"legendfill\"/><g class=\"legendlines\"/><g class=\"legendsymbols\"><g class=\"legendpoints\"><path class=\"legendpie\" d=\"M6,6H-6V-6H6Z\" transform=\"translate(20,0)\" style=\"stroke-width: 0; fill: rgb(250, 127, 114); fill-opacity: 1; stroke: rgb(68, 68, 68); stroke-opacity: 1;\"/></g></g></g><rect class=\"legendtoggle\" pointer-events=\"all\" x=\"0\" y=\"-9.5\" width=\"78.15625\" height=\"19\" style=\"cursor: pointer; fill: rgb(0, 0, 0); fill-opacity: 0;\"/></g><g class=\"traces\" transform=\"translate(0, 147.5)\" style=\"opacity: 1;\"><text class=\"legendtext user-select-none\" text-anchor=\"start\" x=\"40\" y=\"4.680000000000001\" style=\"font-family: 'Open Sans', verdana, arial, sans-serif; font-size: 12px; fill: rgb(42, 63, 95); fill-opacity: 1; white-space: pre;\">20701</text><g class=\"layers\" style=\"opacity: 1;\"><g class=\"legendfill\"/><g class=\"legendlines\"/><g class=\"legendsymbols\"><g class=\"legendpoints\"><path class=\"legendpie\" d=\"M6,6H-6V-6H6Z\" transform=\"translate(20,0)\" style=\"stroke-width: 0; fill: rgb(245, 162, 93); fill-opacity: 1; stroke: rgb(68, 68, 68); stroke-opacity: 1;\"/></g></g></g><rect class=\"legendtoggle\" pointer-events=\"all\" x=\"0\" y=\"-9.5\" width=\"78.15625\" height=\"19\" style=\"cursor: pointer; fill: rgb(0, 0, 0); fill-opacity: 0;\"/></g><g class=\"traces\" transform=\"translate(0, 166.5)\" style=\"opacity: 1;\"><text class=\"legendtext user-select-none\" text-anchor=\"start\" x=\"40\" y=\"4.680000000000001\" style=\"font-family: 'Open Sans', verdana, arial, sans-serif; font-size: 12px; fill: rgb(42, 63, 95); fill-opacity: 1; white-space: pre;\">18975</text><g class=\"layers\" style=\"opacity: 1;\"><g class=\"legendfill\"/><g class=\"legendlines\"/><g class=\"legendsymbols\"><g class=\"legendpoints\"><path class=\"legendpie\" d=\"M6,6H-6V-6H6Z\" transform=\"translate(20,0)\" style=\"stroke-width: 0; fill: rgb(57, 73, 137); fill-opacity: 1; stroke: rgb(68, 68, 68); stroke-opacity: 1;\"/></g></g></g><rect class=\"legendtoggle\" pointer-events=\"all\" x=\"0\" y=\"-9.5\" width=\"78.15625\" height=\"19\" style=\"cursor: pointer; fill: rgb(0, 0, 0); fill-opacity: 0;\"/></g><g class=\"traces\" transform=\"translate(0, 185.5)\" style=\"opacity: 1;\"><text class=\"legendtext user-select-none\" text-anchor=\"start\" x=\"40\" y=\"4.680000000000001\" style=\"font-family: 'Open Sans', verdana, arial, sans-serif; font-size: 12px; fill: rgb(42, 63, 95); fill-opacity: 1; white-space: pre;\">14183</text><g class=\"layers\" style=\"opacity: 1;\"><g class=\"legendfill\"/><g class=\"legendlines\"/><g class=\"legendsymbols\"><g class=\"legendpoints\"><path class=\"legendpie\" d=\"M6,6H-6V-6H6Z\" transform=\"translate(20,0)\" style=\"stroke-width: 0; fill: rgb(243, 186, 214); fill-opacity: 1; stroke: rgb(68, 68, 68); stroke-opacity: 1;\"/></g></g></g><rect class=\"legendtoggle\" pointer-events=\"all\" x=\"0\" y=\"-9.5\" width=\"78.15625\" height=\"19\" style=\"cursor: pointer; fill: rgb(0, 0, 0); fill-opacity: 0;\"/></g><g class=\"traces\" transform=\"translate(0, 204.5)\" style=\"opacity: 1;\"><text class=\"legendtext user-select-none\" text-anchor=\"start\" x=\"40\" y=\"4.680000000000001\" style=\"font-family: 'Open Sans', verdana, arial, sans-serif; font-size: 12px; fill: rgb(42, 63, 95); fill-opacity: 1; white-space: pre;\">13259</text><g class=\"layers\" style=\"opacity: 1;\"><g class=\"legendfill\"/><g class=\"legendlines\"/><g class=\"legendsymbols\"><g class=\"legendpoints\"><path class=\"legendpie\" d=\"M6,6H-6V-6H6Z\" transform=\"translate(20,0)\" style=\"stroke-width: 0; fill: rgb(234, 134, 182); fill-opacity: 1; stroke: rgb(68, 68, 68); stroke-opacity: 1;\"/></g></g></g><rect class=\"legendtoggle\" pointer-events=\"all\" x=\"0\" y=\"-9.5\" width=\"78.15625\" height=\"19\" style=\"cursor: pointer; fill: rgb(0, 0, 0); fill-opacity: 0;\"/></g><g class=\"traces\" transform=\"translate(0, 223.5)\" style=\"opacity: 1;\"><text class=\"legendtext user-select-none\" text-anchor=\"start\" x=\"40\" y=\"4.680000000000001\" style=\"font-family: 'Open Sans', verdana, arial, sans-serif; font-size: 12px; fill: rgb(42, 63, 95); fill-opacity: 1; white-space: pre;\">11631</text><g class=\"layers\" style=\"opacity: 1;\"><g class=\"legendfill\"/><g class=\"legendlines\"/><g class=\"legendsymbols\"><g class=\"legendpoints\"><path class=\"legendpie\" d=\"M6,6H-6V-6H6Z\" transform=\"translate(20,0)\" style=\"stroke-width: 0; fill: rgb(163, 221, 203); fill-opacity: 1; stroke: rgb(68, 68, 68); stroke-opacity: 1;\"/></g></g></g><rect class=\"legendtoggle\" pointer-events=\"all\" x=\"0\" y=\"-9.5\" width=\"78.15625\" height=\"19\" style=\"cursor: pointer; fill: rgb(0, 0, 0); fill-opacity: 0;\"/></g></g></g><rect class=\"scrollbar\" rx=\"20\" ry=\"3\" width=\"0\" height=\"0\" style=\"fill: rgb(128, 139, 164); fill-opacity: 1;\" x=\"0\" y=\"0\"/></g><g class=\"g-gtitle\"/></g></svg>"
      ]
     },
     "metadata": {},
     "output_type": "display_data"
    }
   ],
   "source": [
    "fig2 = px.pie(sessions, values='n_users', names='n_users', color='sessions_month',\n",
    "color_discrete_map={12:'#fcf876',\n",
    "1:'#cee397', 2:'#8bcdcd', 3:'#3797a4', 4:'#fa7f72',5:'#f5a25d',\n",
    "6:'#ea86b6', 7:'#f3bad6', 8:'#a3ddcb', 9:'#394989', 10:'#3b2e5a',\n",
    "                   11:'#4ea0ae'})\n",
    "fig2.show(renderer=\"svg\",height=800,width=900)"
   ]
  },
  {
   "cell_type": "markdown",
   "metadata": {},
   "source": [
    "Both pie charts demonstrate that the Winter and Fall months are the busiest when it comes to visits and orders like we saw on the chart for devices."
   ]
  },
  {
   "cell_type": "code",
   "execution_count": 67,
   "metadata": {},
   "outputs": [
    {
     "data": {
      "text/html": [
       "<div>\n",
       "<style scoped>\n",
       "    .dataframe tbody tr th:only-of-type {\n",
       "        vertical-align: middle;\n",
       "    }\n",
       "\n",
       "    .dataframe tbody tr th {\n",
       "        vertical-align: top;\n",
       "    }\n",
       "\n",
       "    .dataframe thead th {\n",
       "        text-align: right;\n",
       "    }\n",
       "</style>\n",
       "<table border=\"1\" class=\"dataframe\">\n",
       "  <thead>\n",
       "    <tr style=\"text-align: right;\">\n",
       "      <th></th>\n",
       "      <th>order_year</th>\n",
       "      <th>order_month</th>\n",
       "      <th>n_sessions</th>\n",
       "      <th>n_users</th>\n",
       "      <th>buy_per_user</th>\n",
       "    </tr>\n",
       "  </thead>\n",
       "  <tbody>\n",
       "    <tr>\n",
       "      <th>0</th>\n",
       "      <td>2017</td>\n",
       "      <td>6</td>\n",
       "      <td>1874</td>\n",
       "      <td>1756</td>\n",
       "      <td>1.067198</td>\n",
       "    </tr>\n",
       "    <tr>\n",
       "      <th>1</th>\n",
       "      <td>2017</td>\n",
       "      <td>7</td>\n",
       "      <td>2021</td>\n",
       "      <td>1895</td>\n",
       "      <td>1.066491</td>\n",
       "    </tr>\n",
       "    <tr>\n",
       "      <th>2</th>\n",
       "      <td>2017</td>\n",
       "      <td>8</td>\n",
       "      <td>1654</td>\n",
       "      <td>1532</td>\n",
       "      <td>1.079634</td>\n",
       "    </tr>\n",
       "    <tr>\n",
       "      <th>3</th>\n",
       "      <td>2017</td>\n",
       "      <td>9</td>\n",
       "      <td>2803</td>\n",
       "      <td>2542</td>\n",
       "      <td>1.102675</td>\n",
       "    </tr>\n",
       "    <tr>\n",
       "      <th>4</th>\n",
       "      <td>2017</td>\n",
       "      <td>10</td>\n",
       "      <td>4395</td>\n",
       "      <td>3962</td>\n",
       "      <td>1.109288</td>\n",
       "    </tr>\n",
       "    <tr>\n",
       "      <th>5</th>\n",
       "      <td>2017</td>\n",
       "      <td>11</td>\n",
       "      <td>4959</td>\n",
       "      <td>4429</td>\n",
       "      <td>1.119666</td>\n",
       "    </tr>\n",
       "    <tr>\n",
       "      <th>6</th>\n",
       "      <td>2017</td>\n",
       "      <td>12</td>\n",
       "      <td>4885</td>\n",
       "      <td>4363</td>\n",
       "      <td>1.119642</td>\n",
       "    </tr>\n",
       "    <tr>\n",
       "      <th>7</th>\n",
       "      <td>2018</td>\n",
       "      <td>1</td>\n",
       "      <td>4215</td>\n",
       "      <td>3790</td>\n",
       "      <td>1.112137</td>\n",
       "    </tr>\n",
       "    <tr>\n",
       "      <th>8</th>\n",
       "      <td>2018</td>\n",
       "      <td>2</td>\n",
       "      <td>4271</td>\n",
       "      <td>3793</td>\n",
       "      <td>1.126022</td>\n",
       "    </tr>\n",
       "    <tr>\n",
       "      <th>9</th>\n",
       "      <td>2018</td>\n",
       "      <td>3</td>\n",
       "      <td>4007</td>\n",
       "      <td>3618</td>\n",
       "      <td>1.107518</td>\n",
       "    </tr>\n",
       "    <tr>\n",
       "      <th>10</th>\n",
       "      <td>2018</td>\n",
       "      <td>4</td>\n",
       "      <td>3121</td>\n",
       "      <td>2817</td>\n",
       "      <td>1.107916</td>\n",
       "    </tr>\n",
       "    <tr>\n",
       "      <th>11</th>\n",
       "      <td>2018</td>\n",
       "      <td>5</td>\n",
       "      <td>3039</td>\n",
       "      <td>2783</td>\n",
       "      <td>1.091987</td>\n",
       "    </tr>\n",
       "  </tbody>\n",
       "</table>\n",
       "</div>"
      ],
      "text/plain": [
       "    order_year  order_month  n_sessions  n_users  buy_per_user\n",
       "0         2017            6        1874     1756      1.067198\n",
       "1         2017            7        2021     1895      1.066491\n",
       "2         2017            8        1654     1532      1.079634\n",
       "3         2017            9        2803     2542      1.102675\n",
       "4         2017           10        4395     3962      1.109288\n",
       "5         2017           11        4959     4429      1.119666\n",
       "6         2017           12        4885     4363      1.119642\n",
       "7         2018            1        4215     3790      1.112137\n",
       "8         2018            2        4271     3793      1.126022\n",
       "9         2018            3        4007     3618      1.107518\n",
       "10        2018            4        3121     2817      1.107916\n",
       "11        2018            5        3039     2783      1.091987"
      ]
     },
     "execution_count": 67,
     "metadata": {},
     "output_type": "execute_result"
    }
   ],
   "source": [
    "purchase_per_user = orders_log.groupby(['order_year','order_month']).agg({'user_id':['count','nunique']})\n",
    "purchase_per_user.columns = ['n_sessions','n_users']\n",
    "purchase_per_user['buy_per_user'] = purchase_per_user['n_sessions'] / purchase_per_user['n_users']\n",
    "purchase_per_user.reset_index() "
   ]
  },
  {
   "cell_type": "code",
   "execution_count": 68,
   "metadata": {},
   "outputs": [],
   "source": [
    "orders_log['order_date'] = pd.to_datetime(orders_log['buy ts'])\n",
    "costs['date'] = pd.to_datetime(costs['dt']) "
   ]
  },
  {
   "cell_type": "code",
   "execution_count": 69,
   "metadata": {},
   "outputs": [
    {
     "data": {
      "text/html": [
       "<div>\n",
       "<style scoped>\n",
       "    .dataframe tbody tr th:only-of-type {\n",
       "        vertical-align: middle;\n",
       "    }\n",
       "\n",
       "    .dataframe tbody tr th {\n",
       "        vertical-align: top;\n",
       "    }\n",
       "\n",
       "    .dataframe thead th {\n",
       "        text-align: right;\n",
       "    }\n",
       "</style>\n",
       "<table border=\"1\" class=\"dataframe\">\n",
       "  <thead>\n",
       "    <tr style=\"text-align: right;\">\n",
       "      <th></th>\n",
       "      <th>user_id</th>\n",
       "      <th>first_order_month</th>\n",
       "    </tr>\n",
       "  </thead>\n",
       "  <tbody>\n",
       "    <tr>\n",
       "      <th>0</th>\n",
       "      <td>1575281904278712</td>\n",
       "      <td>2018-02-01</td>\n",
       "    </tr>\n",
       "    <tr>\n",
       "      <th>1</th>\n",
       "      <td>2429014661409475</td>\n",
       "      <td>2017-07-01</td>\n",
       "    </tr>\n",
       "    <tr>\n",
       "      <th>2</th>\n",
       "      <td>2464366381792757</td>\n",
       "      <td>2018-05-01</td>\n",
       "    </tr>\n",
       "    <tr>\n",
       "      <th>3</th>\n",
       "      <td>2551852515556206</td>\n",
       "      <td>2018-04-01</td>\n",
       "    </tr>\n",
       "    <tr>\n",
       "      <th>4</th>\n",
       "      <td>3077748354309989</td>\n",
       "      <td>2018-01-01</td>\n",
       "    </tr>\n",
       "  </tbody>\n",
       "</table>\n",
       "</div>"
      ],
      "text/plain": [
       "            user_id first_order_month\n",
       "0  1575281904278712        2018-02-01\n",
       "1  2429014661409475        2017-07-01\n",
       "2  2464366381792757        2018-05-01\n",
       "3  2551852515556206        2018-04-01\n",
       "4  3077748354309989        2018-01-01"
      ]
     },
     "execution_count": 69,
     "metadata": {},
     "output_type": "execute_result"
    }
   ],
   "source": [
    "#when do people start buying?\n",
    "\n",
    "first_orders = orders_log.groupby('user_id').agg({'orders_month':'min'}).reset_index()\n",
    "first_orders.columns= ['user_id','first_order_month']\n",
    "first_orders.head() #test"
   ]
  },
  {
   "cell_type": "code",
   "execution_count": 70,
   "metadata": {},
   "outputs": [],
   "source": [
    "# for each user, find date of first session\n",
    "first_session_dates = visits_log.groupby('user_id').agg({'start_date':'min'}).reset_index()\n",
    "first_session_dates.columns= ['user_id','first_session_month']\n",
    "first_session_dates.head(); #test"
   ]
  },
  {
   "cell_type": "code",
   "execution_count": 71,
   "metadata": {},
   "outputs": [],
   "source": [
    "# merge tables on user_id\n",
    "turnover = pd.merge(first_session_dates, first_orders, on='user_id')\n",
    "turnover.head(); #test"
   ]
  },
  {
   "cell_type": "code",
   "execution_count": 72,
   "metadata": {},
   "outputs": [],
   "source": [
    "# calculate time between first session and first order\n",
    "turnover['turnover_time_days'] = (turnover['first_order_month'] - turnover['first_session_month'])"
   ]
  },
  {
   "cell_type": "code",
   "execution_count": 73,
   "metadata": {},
   "outputs": [
    {
     "data": {
      "text/plain": [
       "Timedelta('-4 days +01:20:26.926483')"
      ]
     },
     "execution_count": 73,
     "metadata": {},
     "output_type": "execute_result"
    }
   ],
   "source": [
    "avg_turnover_time = turnover['turnover_time_days'].mean()\n",
    "avg_turnover_time"
   ]
  },
  {
   "cell_type": "code",
   "execution_count": 74,
   "metadata": {},
   "outputs": [
    {
     "data": {
      "text/plain": [
       "1.100847922202898"
      ]
     },
     "execution_count": 74,
     "metadata": {},
     "output_type": "execute_result"
    }
   ],
   "source": [
    "#calculating the average number of orders per user\n",
    "avg_number_users = purchase_per_user['buy_per_user'].mean()\n",
    "avg_number_users"
   ]
  },
  {
   "cell_type": "markdown",
   "metadata": {},
   "source": [
    "### Conclusion <a name=\"conclusion4\"></a>\n",
    "\n",
    "Based on the sales section, we can conclude that the turnover rate is pretty high, and the service is more popular, or perhaps it would make more sense to say, more relevant, during the winter months."
   ]
  },
  {
   "cell_type": "markdown",
   "metadata": {},
   "source": [
    "### 3. Marketing  <a name=\"marketing\"></a>"
   ]
  },
  {
   "cell_type": "code",
   "execution_count": 75,
   "metadata": {},
   "outputs": [
    {
     "data": {
      "text/html": [
       "<div>\n",
       "<style scoped>\n",
       "    .dataframe tbody tr th:only-of-type {\n",
       "        vertical-align: middle;\n",
       "    }\n",
       "\n",
       "    .dataframe tbody tr th {\n",
       "        vertical-align: top;\n",
       "    }\n",
       "\n",
       "    .dataframe thead th {\n",
       "        text-align: right;\n",
       "    }\n",
       "</style>\n",
       "<table border=\"1\" class=\"dataframe\">\n",
       "  <thead>\n",
       "    <tr style=\"text-align: right;\">\n",
       "      <th></th>\n",
       "      <th>source_id</th>\n",
       "      <th>order_month</th>\n",
       "      <th>costs</th>\n",
       "    </tr>\n",
       "  </thead>\n",
       "  <tbody>\n",
       "    <tr>\n",
       "      <th>0</th>\n",
       "      <td>1</td>\n",
       "      <td>1</td>\n",
       "      <td>2186.18</td>\n",
       "    </tr>\n",
       "    <tr>\n",
       "      <th>48</th>\n",
       "      <td>5</td>\n",
       "      <td>1</td>\n",
       "      <td>5371.52</td>\n",
       "    </tr>\n",
       "    <tr>\n",
       "      <th>24</th>\n",
       "      <td>3</td>\n",
       "      <td>1</td>\n",
       "      <td>14808.78</td>\n",
       "    </tr>\n",
       "    <tr>\n",
       "      <th>60</th>\n",
       "      <td>9</td>\n",
       "      <td>1</td>\n",
       "      <td>547.16</td>\n",
       "    </tr>\n",
       "    <tr>\n",
       "      <th>36</th>\n",
       "      <td>4</td>\n",
       "      <td>1</td>\n",
       "      <td>5832.79</td>\n",
       "    </tr>\n",
       "  </tbody>\n",
       "</table>\n",
       "</div>"
      ],
      "text/plain": [
       "    source_id  order_month     costs\n",
       "0           1            1   2186.18\n",
       "48          5            1   5371.52\n",
       "24          3            1  14808.78\n",
       "60          9            1    547.16\n",
       "36          4            1   5832.79"
      ]
     },
     "execution_count": 75,
     "metadata": {},
     "output_type": "execute_result"
    }
   ],
   "source": [
    "#How much money was spent? Overall/per source/over time\n",
    "\n",
    "expenses = costs.groupby(['source_id', 'order_month'])['costs'].sum().reset_index().sort_values(by='order_month')\n",
    "expenses.head()"
   ]
  },
  {
   "cell_type": "markdown",
   "metadata": {},
   "source": [
    "There is quite a significant range in terms of how money was spent."
   ]
  },
  {
   "cell_type": "code",
   "execution_count": 76,
   "metadata": {},
   "outputs": [
    {
     "data": {
      "text/plain": [
       "<seaborn.axisgrid.FacetGrid at 0x7f8be191ddd0>"
      ]
     },
     "execution_count": 76,
     "metadata": {},
     "output_type": "execute_result"
    },
    {
     "data": {
      "image/png": "[encoded data removed]",
      "text/plain": [
       "<Figure size 720x720 with 1 Axes>"
      ]
     },
     "metadata": {},
     "output_type": "display_data"
    }
   ],
   "source": [
    "colors = {1:'#fd8c04',2:'#f0a500',3:'#f6ab6c',4:'#edf492',5:'#fe91ca',9:\\\n",
    "          '#98d6ea',7:'#da9ff9',6:'#d789d7',12:'#9d65c9',11:'#848ccf',10:'#93b5e1',\n",
    "         8:'#c2f0fc'}\n",
    "\n",
    "sns.catplot(x=\"order_month\", y=\"costs\",kind=\"bar\",data=expenses ,height=10,palette=colors)\n",
    "#ax.set_title(\"Expences\")"
   ]
  },
  {
   "cell_type": "markdown",
   "metadata": {},
   "source": [
    "In the Expenses graph, we see that August was the month of the least expenses. The busiest months are the pre-holiday season. It is essential to point out that perhaps the reason for fewer spendings on marketing for the summer months is connected to natural demand. As per the marketing and business rules, advertising has to keep going as presence is essential regardless of the competition, so it is not brought to zero. If the demand is increased and Yandex being the largest internet service and search engine in Russia, it makes sense that people would turn to Afisha for searching and buying tickets."
   ]
  },
  {
   "cell_type": "code",
   "execution_count": 77,
   "metadata": {},
   "outputs": [
    {
     "data": {
      "text/html": [
       "<div>\n",
       "<style scoped>\n",
       "    .dataframe tbody tr th:only-of-type {\n",
       "        vertical-align: middle;\n",
       "    }\n",
       "\n",
       "    .dataframe tbody tr th {\n",
       "        vertical-align: top;\n",
       "    }\n",
       "\n",
       "    .dataframe thead th {\n",
       "        text-align: right;\n",
       "    }\n",
       "</style>\n",
       "<table border=\"1\" class=\"dataframe\">\n",
       "  <thead>\n",
       "    <tr style=\"text-align: right;\">\n",
       "      <th></th>\n",
       "      <th>first_order_month</th>\n",
       "      <th>n_buyers</th>\n",
       "      <th>order_month</th>\n",
       "      <th>revenue</th>\n",
       "    </tr>\n",
       "  </thead>\n",
       "  <tbody>\n",
       "    <tr>\n",
       "      <th>0</th>\n",
       "      <td>2017-06-01</td>\n",
       "      <td>1537</td>\n",
       "      <td>2017-06-01</td>\n",
       "      <td>9264.75</td>\n",
       "    </tr>\n",
       "    <tr>\n",
       "      <th>1</th>\n",
       "      <td>2017-06-01</td>\n",
       "      <td>1537</td>\n",
       "      <td>2017-07-01</td>\n",
       "      <td>958.66</td>\n",
       "    </tr>\n",
       "    <tr>\n",
       "      <th>2</th>\n",
       "      <td>2017-06-01</td>\n",
       "      <td>1537</td>\n",
       "      <td>2017-08-01</td>\n",
       "      <td>861.66</td>\n",
       "    </tr>\n",
       "    <tr>\n",
       "      <th>3</th>\n",
       "      <td>2017-06-01</td>\n",
       "      <td>1537</td>\n",
       "      <td>2017-09-01</td>\n",
       "      <td>1901.51</td>\n",
       "    </tr>\n",
       "    <tr>\n",
       "      <th>4</th>\n",
       "      <td>2017-06-01</td>\n",
       "      <td>1537</td>\n",
       "      <td>2017-10-01</td>\n",
       "      <td>2022.82</td>\n",
       "    </tr>\n",
       "  </tbody>\n",
       "</table>\n",
       "</div>"
      ],
      "text/plain": [
       "  first_order_month  n_buyers order_month  revenue\n",
       "0        2017-06-01      1537  2017-06-01  9264.75\n",
       "1        2017-06-01      1537  2017-07-01   958.66\n",
       "2        2017-06-01      1537  2017-08-01   861.66\n",
       "3        2017-06-01      1537  2017-09-01  1901.51\n",
       "4        2017-06-01      1537  2017-10-01  2022.82"
      ]
     },
     "execution_count": 77,
     "metadata": {},
     "output_type": "execute_result"
    }
   ],
   "source": [
    "orders_log['order_month'] = orders_log['order_date'].astype('datetime64[M]')\n",
    "costs['month'] = costs['date'].astype('datetime64[M]')\n",
    " \n",
    "first_orders = orders_log.groupby('user_id').agg({'order_month': 'min'}).reset_index()\n",
    "first_orders.columns = ['user_id', 'first_order_month']\n",
    "cohort_sizes = first_orders.groupby('first_order_month').agg({'user_id': 'nunique'}).reset_index()\n",
    "cohort_sizes.columns = ['first_order_month', 'n_buyers']\n",
    "cohort_sizes.head() \n",
    " \n",
    "margin_rate = .4 # As we have done in the theory\n",
    " \n",
    "orders_ = pd.merge(orders_log,first_orders, on='user_id')\n",
    "cohorts = orders_.groupby(['first_order_month','order_month']).agg({'revenue': 'sum'}).reset_index()\n",
    "report = pd.merge(cohort_sizes, cohorts, on='first_order_month')\n",
    "report.head()"
   ]
  },
  {
   "cell_type": "markdown",
   "metadata": {},
   "source": [
    "There is one month where the revenue was very high relative to another month, yet, on other graphs, we see that the month in question was not incredibly busy in terms of visits and orders. This project does not have the information on the purchases' nature, but it is still worth noting."
   ]
  },
  {
   "cell_type": "code",
   "execution_count": 78,
   "metadata": {},
   "outputs": [
    {
     "data": {
      "text/html": [
       "<div>\n",
       "<style scoped>\n",
       "    .dataframe tbody tr th:only-of-type {\n",
       "        vertical-align: middle;\n",
       "    }\n",
       "\n",
       "    .dataframe tbody tr th {\n",
       "        vertical-align: top;\n",
       "    }\n",
       "\n",
       "    .dataframe thead th {\n",
       "        text-align: right;\n",
       "    }\n",
       "</style>\n",
       "<table border=\"1\" class=\"dataframe\">\n",
       "  <thead>\n",
       "    <tr style=\"text-align: right;\">\n",
       "      <th></th>\n",
       "      <th>first_order_month</th>\n",
       "      <th>n_buyers</th>\n",
       "      <th>order_month</th>\n",
       "      <th>revenue</th>\n",
       "      <th>gp</th>\n",
       "      <th>age</th>\n",
       "    </tr>\n",
       "  </thead>\n",
       "  <tbody>\n",
       "    <tr>\n",
       "      <th>0</th>\n",
       "      <td>2017-06-01</td>\n",
       "      <td>1537</td>\n",
       "      <td>2017-06-01</td>\n",
       "      <td>9264.75</td>\n",
       "      <td>3705.900</td>\n",
       "      <td>0</td>\n",
       "    </tr>\n",
       "    <tr>\n",
       "      <th>1</th>\n",
       "      <td>2017-06-01</td>\n",
       "      <td>1537</td>\n",
       "      <td>2017-07-01</td>\n",
       "      <td>958.66</td>\n",
       "      <td>383.464</td>\n",
       "      <td>1</td>\n",
       "    </tr>\n",
       "    <tr>\n",
       "      <th>2</th>\n",
       "      <td>2017-06-01</td>\n",
       "      <td>1537</td>\n",
       "      <td>2017-08-01</td>\n",
       "      <td>861.66</td>\n",
       "      <td>344.664</td>\n",
       "      <td>2</td>\n",
       "    </tr>\n",
       "    <tr>\n",
       "      <th>3</th>\n",
       "      <td>2017-06-01</td>\n",
       "      <td>1537</td>\n",
       "      <td>2017-09-01</td>\n",
       "      <td>1901.51</td>\n",
       "      <td>760.604</td>\n",
       "      <td>3</td>\n",
       "    </tr>\n",
       "    <tr>\n",
       "      <th>4</th>\n",
       "      <td>2017-06-01</td>\n",
       "      <td>1537</td>\n",
       "      <td>2017-10-01</td>\n",
       "      <td>2022.82</td>\n",
       "      <td>809.128</td>\n",
       "      <td>4</td>\n",
       "    </tr>\n",
       "  </tbody>\n",
       "</table>\n",
       "</div>"
      ],
      "text/plain": [
       "  first_order_month  n_buyers order_month  revenue        gp  age\n",
       "0        2017-06-01      1537  2017-06-01  9264.75  3705.900    0\n",
       "1        2017-06-01      1537  2017-07-01   958.66   383.464    1\n",
       "2        2017-06-01      1537  2017-08-01   861.66   344.664    2\n",
       "3        2017-06-01      1537  2017-09-01  1901.51   760.604    3\n",
       "4        2017-06-01      1537  2017-10-01  2022.82   809.128    4"
      ]
     },
     "execution_count": 78,
     "metadata": {},
     "output_type": "execute_result"
    }
   ],
   "source": [
    "#calculating gross profit \n",
    "#margin rate that was adviced by Anastsia to use\n",
    "margin_rate = 0.4\n",
    "\n",
    "report['gp'] = report['revenue'] * margin_rate\n",
    "report['age'] = (report['order_month'] - report['first_order_month']) / np.timedelta64(1, 'M')\n",
    "report['age'] = report['age'].round().astype('int')\n",
    "\n",
    "report.head() "
   ]
  },
  {
   "cell_type": "markdown",
   "metadata": {},
   "source": [
    "Subsequently, the gross profit is higher for that month as well."
   ]
  },
  {
   "cell_type": "code",
   "execution_count": 79,
   "metadata": {},
   "outputs": [
    {
     "data": {
      "image/png": "[encoded data removed]",
      "text/plain": [
       "<Figure size 1080x720 with 3 Axes>"
      ]
     },
     "metadata": {},
     "output_type": "display_data"
    }
   ],
   "source": [
    "report['ltv'] = report['gp'] / report['n_buyers']\n",
    " \n",
    "result = report.pivot_table(\n",
    "    index='first_order_month', \n",
    "    columns='age', \n",
    "    values='ltv', \n",
    "    aggfunc='mean').round()\n",
    " \n",
    "result.fillna('')\n",
    "\n",
    "monthly_costs = costs.groupby('date').sum().reset_index()\n",
    "#monthly_costs.head(6) \n",
    "report_2 = pd.merge(report, monthly_costs, left_on='first_order_month', right_on='date')\n",
    "report_2['cac'] = report_2['costs'] / report_2['n_buyers']\n",
    "report_2.head() \n",
    "\n",
    "\n",
    "result_ltv = report.pivot_table(\n",
    "    index='first_order_month', \n",
    "    columns='age', \n",
    "    values='ltv', \n",
    "    aggfunc='mean').round(2)\n",
    "\n",
    "result_ltv.fillna('')\n",
    "\n",
    "cohort_size = result_ltv.iloc[:,0]\n",
    "retention_matrix = result_ltv.divide(cohort_size, axis = 0)\n",
    "\n",
    "with sns.axes_style(\"white\"):\n",
    "    fig, ax = plt.subplots(1, 2, figsize=(15, 10), sharey=True, gridspec_kw={'width_ratios': [1, 11]})\n",
    "    \n",
    "    def create_color(r, g, b):\n",
    "        return [r/256, g/256, b/256]\n",
    " \n",
    "    def get_custom_color_palette():\n",
    "        return LinearSegmentedColormap.from_list(\"\", ['#726a95','#3fc5f0','#ffdc34'\n",
    " \n",
    "])    \n",
    "    \n",
    "    # retention matrix\n",
    "    cmap = get_custom_color_palette() \n",
    "    sns.heatmap(retention_matrix,  \n",
    "                annot=True, \n",
    "                fmt='.1%', \n",
    "                cmap=cmap,\n",
    "                linewidths=5,\n",
    "                vmin=-0.5, vmax=0.3,\n",
    "                ax=ax[1])\n",
    "    ax[1].set_title('Monthly Cohorts: User Retention', fontsize=16)\n",
    "    ax[1].set(xlabel='# of periods',\n",
    "              ylabel='')"
   ]
  },
  {
   "cell_type": "markdown",
   "metadata": {},
   "source": [
    "On the heatmap, we see three outliers, one for 2017-12-01 and another one for 2017-09-01, which can be attributed to the City Day in Moscow, given that Yandex Afisha has one of their biggest audience there. An outlier for the first cohort can be attributed to pleasant weather in June and the potential for events happening outdoors. "
   ]
  },
  {
   "cell_type": "code",
   "execution_count": 80,
   "metadata": {},
   "outputs": [
    {
     "name": "stdout",
     "output_type": "stream",
     "text": [
      "Average LTV for 6 months from the first order: 3.6857142857142864\n"
     ]
    }
   ],
   "source": [
    "month_6_cum_ltv = result_ltv.cumsum(axis=1).mean(axis=0)[5]\n",
    "print('Average LTV for 6 months from the first order:', month_6_cum_ltv)"
   ]
  },
  {
   "cell_type": "code",
   "execution_count": 81,
   "metadata": {},
   "outputs": [],
   "source": [
    "ltv_6 = result_ltv.loc['2017-06-01'].sum()\n",
    "ltv_7 = result_ltv.loc['2017-07-01'].sum()\n",
    "ltv_8 = result_ltv.loc['2017-08-01'].sum()\n",
    "ltv_9 = result_ltv.loc['2017-09-01'].sum()\n",
    "ltv_10 = result_ltv.loc['2017-10-01'].sum() \n",
    "ltv_11 = result_ltv.loc['2017-11-01'].sum()"
   ]
  },
  {
   "cell_type": "code",
   "execution_count": 82,
   "metadata": {},
   "outputs": [],
   "source": [
    "ltv_data = [['2017-06-01', 6.10], ['2017-07-01', 3.71], ['2017-08-01',3.73],['2017-09-01',6.07],['2017-10-01',2.98],['2017-11-01',2.94]] \n",
    "  \n",
    "# Create the DataFrame \n",
    "ltv_months = pd.DataFrame(ltv_data, columns = ['date', 'value_month']) \n",
    "ltv_months['date'] = ltv_months['date'].astype('datetime64[M]')\n",
    "ltv_months['month'] = ltv_months['date'].dt.month \n",
    "\n",
    "#ltv_months.info() #test"
   ]
  },
  {
   "cell_type": "code",
   "execution_count": 83,
   "metadata": {},
   "outputs": [
    {
     "name": "stdout",
     "output_type": "stream",
     "text": [
      "LTV Distribution Per Each Cohort Age\n"
     ]
    },
    {
     "data": {
      "image/png": "[encoded data removed]",
      "text/plain": [
       "<Figure size 720x720 with 1 Axes>"
      ]
     },
     "metadata": {},
     "output_type": "display_data"
    }
   ],
   "source": [
    "colors = {6:'#ffd800',7:'#f1fa3c',8:'#eea5f6',9:'#baabda',10:'#916dd5',11:'#3e206d'}\n",
    "\n",
    "sns.catplot(x= \"month\", y= \"value_month\",kind=\"bar\",data=ltv_months ,height=10,aspect=1,palette=colors)\n",
    " \n",
    "print(\"LTV Distribution Per Each Cohort Age\")    \n",
    "    "
   ]
  },
  {
   "cell_type": "code",
   "execution_count": 84,
   "metadata": {},
   "outputs": [
    {
     "data": {
      "text/html": [
       "<div>\n",
       "<style scoped>\n",
       "    .dataframe tbody tr th:only-of-type {\n",
       "        vertical-align: middle;\n",
       "    }\n",
       "\n",
       "    .dataframe tbody tr th {\n",
       "        vertical-align: top;\n",
       "    }\n",
       "\n",
       "    .dataframe thead th {\n",
       "        text-align: right;\n",
       "    }\n",
       "</style>\n",
       "<table border=\"1\" class=\"dataframe\">\n",
       "  <thead>\n",
       "    <tr style=\"text-align: right;\">\n",
       "      <th></th>\n",
       "      <th>age</th>\n",
       "      <th>values</th>\n",
       "    </tr>\n",
       "  </thead>\n",
       "  <tbody>\n",
       "    <tr>\n",
       "      <th>0</th>\n",
       "      <td>0</td>\n",
       "      <td>2.238462</td>\n",
       "    </tr>\n",
       "    <tr>\n",
       "      <th>1</th>\n",
       "      <td>1</td>\n",
       "      <td>2.518182</td>\n",
       "    </tr>\n",
       "    <tr>\n",
       "      <th>2</th>\n",
       "      <td>2</td>\n",
       "      <td>2.719000</td>\n",
       "    </tr>\n",
       "    <tr>\n",
       "      <th>3</th>\n",
       "      <td>3</td>\n",
       "      <td>3.090000</td>\n",
       "    </tr>\n",
       "    <tr>\n",
       "      <th>4</th>\n",
       "      <td>4</td>\n",
       "      <td>3.376250</td>\n",
       "    </tr>\n",
       "    <tr>\n",
       "      <th>5</th>\n",
       "      <td>5</td>\n",
       "      <td>3.685714</td>\n",
       "    </tr>\n",
       "    <tr>\n",
       "      <th>6</th>\n",
       "      <td>6</td>\n",
       "      <td>3.885000</td>\n",
       "    </tr>\n",
       "    <tr>\n",
       "      <th>7</th>\n",
       "      <td>7</td>\n",
       "      <td>4.218000</td>\n",
       "    </tr>\n",
       "    <tr>\n",
       "      <th>8</th>\n",
       "      <td>8</td>\n",
       "      <td>4.667500</td>\n",
       "    </tr>\n",
       "    <tr>\n",
       "      <th>9</th>\n",
       "      <td>9</td>\n",
       "      <td>4.346667</td>\n",
       "    </tr>\n",
       "    <tr>\n",
       "      <th>10</th>\n",
       "      <td>10</td>\n",
       "      <td>4.840000</td>\n",
       "    </tr>\n",
       "    <tr>\n",
       "      <th>11</th>\n",
       "      <td>11</td>\n",
       "      <td>6.100000</td>\n",
       "    </tr>\n",
       "  </tbody>\n",
       "</table>\n",
       "</div>"
      ],
      "text/plain": [
       "    age    values\n",
       "0     0  2.238462\n",
       "1     1  2.518182\n",
       "2     2  2.719000\n",
       "3     3  3.090000\n",
       "4     4  3.376250\n",
       "5     5  3.685714\n",
       "6     6  3.885000\n",
       "7     7  4.218000\n",
       "8     8  4.667500\n",
       "9     9  4.346667\n",
       "10   10  4.840000\n",
       "11   11  6.100000"
      ]
     },
     "execution_count": 84,
     "metadata": {},
     "output_type": "execute_result"
    }
   ],
   "source": [
    "average_cohort_LTV = result_ltv.cumsum(axis=1).mean(axis=0).reset_index()\n",
    "average_cohort_LTV.rename(columns = {0:'values'}, inplace=True)\n",
    "average_cohort_LTV"
   ]
  },
  {
   "cell_type": "code",
   "execution_count": 85,
   "metadata": {},
   "outputs": [
    {
     "name": "stdout",
     "output_type": "stream",
     "text": [
      "Average Cohort LTV Visualization\n"
     ]
    },
    {
     "data": {
      "image/png": "[encoded data removed]",
      "text/plain": [
       "<Figure size 720x720 with 1 Axes>"
      ]
     },
     "metadata": {},
     "output_type": "display_data"
    }
   ],
   "source": [
    "colors = {6:'#d79abc',5:'#baabda',0:'#9fdfcd',1:'#dcffcc',2:'#f5b0cb',4:'#d597ce',\\\n",
    "          3:'#ffa0d2',8:'#bc5090',7:'#fc7978',9:'#f54291',11:'#f0134d',10:'#d7385e'}\n",
    "\n",
    "sns.catplot(x=\"age\", y=\"values\",kind=\"bar\",data=average_cohort_LTV ,height=10,palette=colors)\n",
    "print(\"Average Cohort LTV Visualization\")"
   ]
  },
  {
   "cell_type": "markdown",
   "metadata": {},
   "source": [
    "#### Conclusion on LTV\n",
    "\n",
    "The amount brought in revenue is not significant. However, given the fact that Yandex Afisha gets a percentage out of ticket sales that are not directly advertised on the platform but rather suggested to the user, it is not that critical. The products' marketing is their presentation on the website in a way a particular theater or a gallery would prefer them to be. In other words, the only heavy-lifting component of the marketing of the products presented on the website is website optimization for multiple devices. What is interesting is that June brought the most significant revenue."
   ]
  },
  {
   "cell_type": "code",
   "execution_count": 86,
   "metadata": {},
   "outputs": [
    {
     "data": {
      "text/plain": [
       "735.26"
      ]
     },
     "execution_count": 86,
     "metadata": {},
     "output_type": "execute_result"
    }
   ],
   "source": [
    "costs[costs['dt'] == '2017-06-01']['costs'].sum()"
   ]
  },
  {
   "cell_type": "code",
   "execution_count": 87,
   "metadata": {},
   "outputs": [
    {
     "data": {
      "text/plain": [
       "1537"
      ]
     },
     "execution_count": 87,
     "metadata": {},
     "output_type": "execute_result"
    }
   ],
   "source": [
    "report[report['first_order_month'] == '2017-06-01']['n_buyers'][0]"
   ]
  },
  {
   "cell_type": "code",
   "execution_count": 88,
   "metadata": {
    "scrolled": true
   },
   "outputs": [
    {
     "name": "stdout",
     "output_type": "stream",
     "text": [
      "CAC = 0.47837345478204296\n",
      "LTV = 3.0\n"
     ]
    }
   ],
   "source": [
    "#steps to calculate cac\n",
    "#finding the cohort\n",
    "cohort_20170601 = report[report['first_order_month'] == '2017-06-01']\n",
    "\n",
    "#calculating the costs\n",
    "costs_20170601 = costs[costs['dt'] == '2017-06-01']['costs'].sum()\n",
    "\n",
    "n_buyers_20170601 = report[report['first_order_month'] == '2017-06-01']['n_buyers'][0]\n",
    "cac_20170601 = costs_20170601 / n_buyers_20170601\n",
    "ltv_20170601 = result.loc['2017-06-01'].sum()\n",
    "\n",
    "print('CAC =',cac_20170601)\n",
    "print('LTV =',ltv_20170601)"
   ]
  },
  {
   "cell_type": "markdown",
   "metadata": {},
   "source": [
    "Based on the results, a relatively small amount should be spent on customer acquisition while the customer value demonstrates the success of the model's financial side. "
   ]
  },
  {
   "cell_type": "code",
   "execution_count": 89,
   "metadata": {},
   "outputs": [
    {
     "data": {
      "image/png": "[encoded data removed]",
      "text/plain": [
       "<Figure size 1080x720 with 3 Axes>"
      ]
     },
     "metadata": {},
     "output_type": "display_data"
    }
   ],
   "source": [
    "report_2['romi'] = report_2['ltv'] / report_2['cac']\n",
    "output = report_2.pivot_table(\n",
    "    index='first_order_month', \n",
    "    columns='age', \n",
    "    values='romi', \n",
    "    aggfunc='mean')\n",
    "\n",
    "\n",
    "cohort_size = output.iloc[:,0]\n",
    "retention_matrix = output.divide(cohort_size, axis = 0)\n",
    "\n",
    "with sns.axes_style(\"white\"):\n",
    "    fig, ax = plt.subplots(1, 2, figsize=(15, 10), sharey=True, gridspec_kw={'width_ratios': [1, 11]})\n",
    "\n",
    "    def create_color(r, g, b):\n",
    "        return [r/256, g/256, b/256]\n",
    " \n",
    "    def get_custom_color_palette():\n",
    "        return LinearSegmentedColormap.from_list(\"\", ['#f54291','#32e0c4'\n",
    " \n",
    "])    \n",
    "    \n",
    "    # retention matrix\n",
    "    cmap = get_custom_color_palette()     \n",
    "    # retention matrix\n",
    "    sns.heatmap(retention_matrix,  \n",
    "                annot=True, \n",
    "                fmt='.1%', \n",
    "                cmap=cmap,\n",
    "                linewidths=5,\n",
    "                vmin=-0.5, vmax=0.3,\n",
    "                ax=ax[1])\n",
    "    ax[1].set_title('Return Of Investment', fontsize=16)\n",
    "    ax[1].set(xlabel='Age',\n",
    "              ylabel='')\n",
    "#output.cumsum(axis=1).round(2) "
   ]
  },
  {
   "cell_type": "code",
   "execution_count": 90,
   "metadata": {},
   "outputs": [
    {
     "name": "stdout",
     "output_type": "stream",
     "text": [
      "Average ROMI for 6 months from the first order: 11.979082824852371\n"
     ]
    }
   ],
   "source": [
    "month_6_cum_romi = output.cumsum(axis=1).mean(axis=0)[5]\n",
    "print('Average ROMI for 6 months from the first order:',month_6_cum_romi)"
   ]
  },
  {
   "cell_type": "markdown",
   "metadata": {},
   "source": [
    "The investment return shows a pretty clear pattern in terms of when events are happening in Russia and where the service is most needed. In May, the investment comes around the middle of the months because many events are happening during the May holidays, and tickets are being sold, so we see the spike right after in this cohort.\n",
    "\n",
    "In June, a similar thing.\n",
    "\n",
    "Even though August is not a busy month overall, the search volume is significantly lower; August has shown to bring a significant return of investment. In this case, the smaller volume does not mean a lack of interest but rather a lack of seasonal need. Still, the advertising efforts were adjusted accordingly, which yielded into better profit. "
   ]
  },
  {
   "cell_type": "code",
   "execution_count": 91,
   "metadata": {},
   "outputs": [
    {
     "data": {
      "text/html": [
       "<div>\n",
       "<style scoped>\n",
       "    .dataframe tbody tr th:only-of-type {\n",
       "        vertical-align: middle;\n",
       "    }\n",
       "\n",
       "    .dataframe tbody tr th {\n",
       "        vertical-align: top;\n",
       "    }\n",
       "\n",
       "    .dataframe thead th {\n",
       "        text-align: right;\n",
       "    }\n",
       "</style>\n",
       "<table border=\"1\" class=\"dataframe\">\n",
       "  <thead>\n",
       "    <tr style=\"text-align: right;\">\n",
       "      <th></th>\n",
       "      <th>age</th>\n",
       "      <th>values</th>\n",
       "    </tr>\n",
       "  </thead>\n",
       "  <tbody>\n",
       "    <tr>\n",
       "      <th>0</th>\n",
       "      <td>0</td>\n",
       "      <td>7.300064</td>\n",
       "    </tr>\n",
       "    <tr>\n",
       "      <th>1</th>\n",
       "      <td>1</td>\n",
       "      <td>7.780024</td>\n",
       "    </tr>\n",
       "    <tr>\n",
       "      <th>2</th>\n",
       "      <td>2</td>\n",
       "      <td>8.386955</td>\n",
       "    </tr>\n",
       "    <tr>\n",
       "      <th>3</th>\n",
       "      <td>3</td>\n",
       "      <td>9.897642</td>\n",
       "    </tr>\n",
       "    <tr>\n",
       "      <th>4</th>\n",
       "      <td>4</td>\n",
       "      <td>10.997549</td>\n",
       "    </tr>\n",
       "    <tr>\n",
       "      <th>5</th>\n",
       "      <td>5</td>\n",
       "      <td>11.979083</td>\n",
       "    </tr>\n",
       "    <tr>\n",
       "      <th>6</th>\n",
       "      <td>6</td>\n",
       "      <td>12.424716</td>\n",
       "    </tr>\n",
       "    <tr>\n",
       "      <th>7</th>\n",
       "      <td>7</td>\n",
       "      <td>13.671314</td>\n",
       "    </tr>\n",
       "    <tr>\n",
       "      <th>8</th>\n",
       "      <td>8</td>\n",
       "      <td>14.871498</td>\n",
       "    </tr>\n",
       "    <tr>\n",
       "      <th>9</th>\n",
       "      <td>9</td>\n",
       "      <td>12.297574</td>\n",
       "    </tr>\n",
       "    <tr>\n",
       "      <th>10</th>\n",
       "      <td>10</td>\n",
       "      <td>14.445048</td>\n",
       "    </tr>\n",
       "    <tr>\n",
       "      <th>11</th>\n",
       "      <td>11</td>\n",
       "      <td>12.740952</td>\n",
       "    </tr>\n",
       "  </tbody>\n",
       "</table>\n",
       "</div>"
      ],
      "text/plain": [
       "    age     values\n",
       "0     0   7.300064\n",
       "1     1   7.780024\n",
       "2     2   8.386955\n",
       "3     3   9.897642\n",
       "4     4  10.997549\n",
       "5     5  11.979083\n",
       "6     6  12.424716\n",
       "7     7  13.671314\n",
       "8     8  14.871498\n",
       "9     9  12.297574\n",
       "10   10  14.445048\n",
       "11   11  12.740952"
      ]
     },
     "execution_count": 91,
     "metadata": {},
     "output_type": "execute_result"
    }
   ],
   "source": [
    "average_cohort_romi = output.cumsum(axis=1).mean(axis=0).reset_index()\n",
    "average_cohort_romi.rename(columns = {0:'values'}, inplace=True)\n",
    "average_cohort_romi"
   ]
  },
  {
   "cell_type": "code",
   "execution_count": 92,
   "metadata": {},
   "outputs": [
    {
     "name": "stdout",
     "output_type": "stream",
     "text": [
      "Average Cohort Romi Visualization\n"
     ]
    },
    {
     "data": {
      "image/png": "[encoded data removed]",
      "text/plain": [
       "<Figure size 720x720 with 1 Axes>"
      ]
     },
     "metadata": {},
     "output_type": "display_data"
    }
   ],
   "source": [
    "colors = {6:'#70af85',3:'#e6b566',0:'#e8e9a1',10:'#654062',2:'#ffd66b',\\\n",
    "          7:'#c7753d',5:'#a9294f',4:'#6f9eaf',5:'#74c7b8',1:'#ffcda3',9:'#944e6c',\\\n",
    "         8:'#db6400',11:'#583d72'}\n",
    "\n",
    "sns.catplot(x=\"age\", y=\"values\",kind=\"bar\",data=average_cohort_romi ,height=10,palette=colors)\n",
    "print(\"Average Cohort Romi Visualization\")"
   ]
  },
  {
   "cell_type": "markdown",
   "metadata": {},
   "source": [
    "The return of investment varies considerably based on the period. Perhaps there are other factors involves, such as the type of product offered through the service."
   ]
  },
  {
   "cell_type": "markdown",
   "metadata": {},
   "source": [
    "### Conclusion  <a name=\"conclusion5\"></a>\n",
    "\n",
    "In terms of marketing efforts, the model is successful, given that the return of investment is high, which is good, and the revenue and GP are significant. It is not clear what aspect of the service draws the most customers because we do not have sufficient data; however, what is essential is that the return of investment is still significant even during less successful months."
   ]
  },
  {
   "cell_type": "markdown",
   "metadata": {},
   "source": [
    "## Step 3. Testing Hypothesis  <a name=\"hypothesis\"></a>"
   ]
  },
  {
   "cell_type": "markdown",
   "metadata": {},
   "source": [
    "### Hypothesis formulation:\n",
    "\n",
    "Null hypothesis - that the duration of visits from different types of device is equal\n",
    "\n",
    "Alternative hypothesis - they are not equal\n",
    "\n",
    "In this case, I chose a relatively small alpha because, most likely, the duration of visits will not be equal. Several factors may attribute, such as when people browse the internet from each type of device and the level of comfort while using the interface. For example, people are more likely to browse from their phones during the morning or evening hours between getting ready for work or during transit. Also, some people prefer ordering from the desktop because the screen size makes it easier for them to go through the payment process. "
   ]
  },
  {
   "cell_type": "code",
   "execution_count": 93,
   "metadata": {},
   "outputs": [
    {
     "name": "stdout",
     "output_type": "stream",
     "text": [
      "Rejecting the null hypothesis\n"
     ]
    },
    {
     "data": {
      "image/png": "[encoded data removed]",
      "text/plain": [
       "<Figure size 720x576 with 1 Axes>"
      ]
     },
     "metadata": {},
     "output_type": "display_data"
    }
   ],
   "source": [
    "visits_duration_min = visits_log[visits_log['session_duration_min'] > 0]\n",
    "visits_touch = visits_duration_min[visits_duration_min['device'] == 'touch']\n",
    "visits_desktop = visits_duration_min[visits_duration_min['device'] == 'desktop']\n",
    "\n",
    "touch_visits_duration = visits_touch['session_duration_min'] \n",
    "desktop_visits_duration = visits_desktop['session_duration_min']\n",
    "\n",
    "plt.figure(figsize=(10,8))\n",
    "x = pd.Series(touch_visits_duration, name=\"Session Duration\") \n",
    "ax = sns.distplot(x,color='LimeGreen')\n",
    "x = pd.Series(desktop_visits_duration, name=\"Session Duration\") \n",
    "ax = sns.distplot(x,color='MediumVioletRed',)\n",
    "\n",
    "\n",
    "alpha = 0.05 #there is not a huge possibility that the duration from different devices will be the same\n",
    "\n",
    "results = st.ttest_ind(\n",
    "        touch_visits_duration,\n",
    "        desktop_visits_duration)\n",
    "\n",
    "if (results.pvalue != alpha):\n",
    "    print(\"Rejecting the null hypothesis\")\n",
    "else:\n",
    "    print(\"Failed to reject the null hypothesis\")# Test the hypothesis"
   ]
  },
  {
   "cell_type": "markdown",
   "metadata": {},
   "source": [
    "### Conclusion <a name=\"conclusion6\"></a>"
   ]
  },
  {
   "cell_type": "markdown",
   "metadata": {},
   "source": [
    "We reject the null hypothesis which confirms my suspition that the duration of interactions through desktop and mobile devices would differ."
   ]
  },
  {
   "cell_type": "markdown",
   "metadata": {},
   "source": [
    "## Project Conclusion <a name=\"conclusion7\"></a>\n",
    "\n",
    "After analyzing Yandex Afisha, we can conclude that the platform does not have a significant profit but does not have substantial spendings relative to the outcome, which makes the strategy balanced. Here it is essential to consider that Yandex Afisha is a product within the Yandex ecosystem and its usefulness for the consumer is more significant than the profit. People can use the quality service as the most convenient aggregator source from their home, with the Yandex brand outlook helps to dictate presence. \n",
    "\n",
    "The fluctuations in revenue and spending on advertising are connected to seasonal changes. People spend more during the times when theaters, exhibitions, etc. are not on a break. Spikes occur during holidays when people have days off, but they cannot (for the most part) take an extended vacation and travel somewhere. What is also worth noting is that despite a lower volume of users visiting the page, the revenue goes up. Here it would help to understand what particular event caused the spike that would require additional research. \n",
    "\n",
    "People overwhelmingly prefer accessing the service from their desktops. The platform is optimized for mobile devices and has an excellent responsive design, but perhaps it is easier for people to make purchases from bigger screens where there is less of a chance to make a mistake."
   ]
  },
  {
   "cell_type": "code",
   "execution_count": null,
   "metadata": {},
   "outputs": [],
   "source": []
  }
 ],
 "metadata": {
  "kernelspec": {
   "display_name": "Python 3",
   "language": "python",
   "name": "python3"
  },
  "language_info": {
   "codemirror_mode": {
    "name": "ipython",
    "version": 3
   },
   "file_extension": ".py",
   "mimetype": "text/x-python",
   "name": "python",
   "nbconvert_exporter": "python",
   "pygments_lexer": "ipython3",
   "version": "3.7.6"
  },
  "toc": {
   "base_numbering": 1,
   "nav_menu": {},
   "number_sections": true,
   "sideBar": true,
   "skip_h1_title": false,
   "title_cell": "Table of Contents",
   "title_sidebar": "Contents",
   "toc_cell": false,
   "toc_position": {},
   "toc_section_display": true,
   "toc_window_display": false
  }
 },
 "nbformat": 4,
 "nbformat_minor": 2
}
